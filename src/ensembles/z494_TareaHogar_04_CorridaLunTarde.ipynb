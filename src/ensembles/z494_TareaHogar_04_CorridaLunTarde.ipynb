{
 "cells": [
  {
   "cell_type": "markdown",
   "metadata": {
    "id": "0cEmzeUKFkPh"
   },
   "source": [
    "# Tarea para el Hogar 04"
   ]
  },
  {
   "cell_type": "markdown",
   "metadata": {
    "id": "nSICPpyTGQmC"
   },
   "source": [
    "Esta Tarea para el Hogar 02 se entrega el final de la cuarta clase\n",
    "<br> se espera de usted que intente avanzar con los desafios propuestos y que los traiga terminados para la Clase 05 que será el viernes 01-agosto"
   ]
  },
  {
   "cell_type": "markdown",
   "metadata": {
    "id": "DenyKXkiJ5JN"
   },
   "source": [
    "##  1. Cazatalentos"
   ]
  },
  {
   "cell_type": "markdown",
   "metadata": {
    "id": "l-K2_ZsZGrVD"
   },
   "source": [
    "En la Clase 03 nos hemos enfrentado a  \"La Maldicion del Ganandor\",  elegir el modelo con el mejor puntaje simple no suele ser la mejor estrategia.\n",
    "<br> Lea y ejecute el notebook  **src/CazaTalentos/CazaTalentos.ipynb**\n",
    "<br> en caso de interesarle, participe del Desafío Ordenamiento  que vence el sábado 02 de agosto a las 19:00"
   ]
  },
  {
   "cell_type": "markdown",
   "metadata": {
    "id": "K9GkTOk5J9t3"
   },
   "source": [
    "## 2. Hiperparámetros del LightGBM"
   ]
  },
  {
   "cell_type": "markdown",
   "metadata": {
    "id": "VmEFy0ukKL5T"
   },
   "source": [
    "Los objetivos de esta tarea son:\n",
    "\n",
    "\n",
    "*   Aumentar la rentabilidad de la campaña de marketing de retención proactiva de clientes.\n",
    "*   Generar un mejor modelo optimizando sus hiperparámetros\n",
    "*   Conceptual : investigar los mas relevantes hiperparámetros de LightGBM\n",
    "*   Familiarizarse con la Bayesian Optimization, sus largos tiempos de corrida y opciones para reducirlos\n",
    "*   Familiarizarse con el uso de máquinas virtuales de Google Colab\n",
    "*   Ver un pipeline completo de optimización de hiperparámetros y puesta en producción"
   ]
  },
  {
   "cell_type": "markdown",
   "metadata": {
    "id": "5yvlS6JQLRMd"
   },
   "source": [
    "LightGBM cuenta con mas de 60 hiperparámetros, siendo posible utilizar 40 al mismo tiempo, aunque no razonable.\n",
    "<br> La documentación oficial de los hiperparámetros de LightGBM es  https://lightgbm.readthedocs.io/en/latest/Parameters.html#core-parameters\n"
   ]
  },
  {
   "cell_type": "markdown",
   "metadata": {
    "id": "eydI4YNAsFaf"
   },
   "source": [
    "Se lo alerta sobre que una Optimizacion Bayesiana lleva varias horas de corrida, y usted deberá correr VARIAS optimizaciones para descubrir cuales parámetros conviene optimizar.\n",
    "<br> A pesar que la próxima clase es recien en viernes 01 de agosto, inicie la tarea con tiempo, aprenda a planificar estratégicamente sus corridas como un@ científ@  de datos."
   ]
  },
  {
   "cell_type": "markdown",
   "metadata": {
    "id": "RzU4S0SeMcpp"
   },
   "source": [
    "Es necesario investigar cuales son los hiperparámetros de LightGBM que vale la pena optimizar en una Bayesian Optimization, ya que los realmente utiles son apenas un reducido subconjunto.\n",
    "<br>Usted deberá investigar cuales son los hiperparámetros mas relevantes de LightGBM, su primer alternativa es preguntándole a su amigo con capacidades especiales ChatGPT o sus endogámicos familiares Claude, DeepSeek, Gemini, Grok, etc\n",
    "<br> La segunda alternativa es la propia documentación de LightGBM  https://lightgbm.readthedocs.io/en/latest/Parameters-Tuning.html\n"
   ]
  },
  {
   "cell_type": "markdown",
   "metadata": {
    "id": "LNptUgI_NWWG"
   },
   "source": [
    "Adicionalmente podra buscar información como la que proveen esta diminuta muestra aleatoria de artículos ligeros:\n",
    "*  https://medium.com/@sarahzouinina/a-deep-dive-into-lightgbm-how-to-choose-and-tune-parameters-7c584945842e\n",
    "*  https://www.kaggle.com/code/somang1418/tuning-hyperparameters-under-10-minutes-lgbm\n",
    "*  https://towardsdatascience.com/beginners-guide-to-the-must-know-lightgbm-hyperparameters-a0005a812702/\n",
    "\n",
    "\n",
    "<br>  La muestra anterior se brinda a modo de ejemplo, usted deberá buscar muuuuchas  fuentes adicionales de información\n",
    "<br> Tenga presente que LightGBM es el estado del arte en modelado predictivo para datasets estructurado, que son el 90% del trabajo del 95% de los Data Scientists en Argentina."
   ]
  },
  {
   "cell_type": "markdown",
   "metadata": {
    "id": "WpUThBojODyK"
   },
   "source": [
    "El desafío de esta tarea es:\n",
    "* Qué hiperparparámetros conviene optimizar?  Las recomendaciones de los artículos ligeros es siempre sensata?  Sus autores realmente hicieron experimentos o son siemplemente escritores de entretenimiento carente de base científica?\n",
    "* Elegidos los hiperparámetros, cual es el  <desde, hasta> que se debe utilizar en la Bayesian Optimization ?\n",
    "* Realmente vale la pena optimizar 10 o 16 hiperparámetros al mismo tiempo ?  No resulta contraproducente una búsqueda en un espacio de tal alta dimensionalidad ?"
   ]
  },
  {
   "cell_type": "markdown",
   "metadata": {
    "id": "PX0qg_c0yqob"
   },
   "source": [
    "#### 2.1  Seteo del ambiente en Google Colab"
   ]
  },
  {
   "cell_type": "markdown",
   "metadata": {
    "id": "NGY7H9xza7Zr"
   },
   "source": [
    "Esta parte se debe correr con el runtime en Python3\n",
    "<br>Ir al menu, Runtime -> Change Runtime Type -> Runtime type ->  **Python 3**"
   ]
  },
  {
   "cell_type": "markdown",
   "metadata": {
    "id": "7PupIBNba7Zr"
   },
   "source": [
    "Conectar la virtual machine donde esta corriendo Google Colab con el  Google Drive, para poder tener persistencia de archivos"
   ]
  },
  {
   "cell_type": "code",
   "execution_count": 1,
   "metadata": {
    "id": "9LpZCst5a7Zs"
   },
   "outputs": [
    {
     "ename": "ERROR",
     "evalue": "Error in parse(text = input): <text>:2:6: unexpected symbol\n1: # primero establecer el Runtime de Python 3\n2: from google.colab\n        ^\n",
     "output_type": "error",
     "traceback": [
      "Error in parse(text = input): <text>:2:6: unexpected symbol\n1: # primero establecer el Runtime de Python 3\n2: from google.colab\n        ^\nTraceback:\n"
     ]
    }
   ],
   "source": [
    "# primero establecer el Runtime de Python 3\n",
    "from google.colab import drive\n",
    "drive.mount('/content/.drive')"
   ]
  },
  {
   "cell_type": "markdown",
   "metadata": {
    "id": "JYC_F-wla7Zs"
   },
   "source": [
    "Para correr la siguiente celda es fundamental en Arranque en Frio haber copiado el archivo kaggle.json al Google Drive, en la carpeta indicada en el instructivo\n",
    "\n",
    "<br>los siguientes comando estan en shell script de Linux\n",
    "*   Crear las carpetas en el Google Drive\n",
    "*   \"instalar\" el archivo kaggle.json desde el Google Drive a la virtual machine para que pueda ser utilizado por la libreria  kaggle de Python\n",
    "*   Bajar el  **dataset_pequeno**  al  Google Drive  y tambien al disco local de la virtual machine que esta corriendo Google Colab\n",
    "\n"
   ]
  },
  {
   "cell_type": "code",
   "execution_count": null,
   "metadata": {
    "id": "XWLelftXa7Zt"
   },
   "outputs": [],
   "source": [
    "%%shell\n",
    "\n",
    "mkdir -p \"/content/.drive/My Drive/dm\"\n",
    "mkdir -p \"/content/buckets\"\n",
    "ln -s \"/content/.drive/My Drive/dm\" /content/buckets/b1\n",
    "\n",
    "mkdir -p ~/.kaggle\n",
    "cp /content/buckets/b1/kaggle/kaggle.json  ~/.kaggle\n",
    "chmod 600 ~/.kaggle/kaggle.json\n",
    "\n",
    "\n",
    "mkdir -p /content/buckets/b1/exp\n",
    "mkdir -p /content/buckets/b1/datasets\n",
    "mkdir -p /content/datasets\n",
    "\n",
    "\n",
    "\n",
    "archivo_origen=\"https://storage.googleapis.com/open-courses/itba2025-8d0a/dataset_pequeno.csv\"\n",
    "archivo_destino=\"/content/datasets/dataset_pequeno.csv\"\n",
    "archivo_destino_bucket=\"/content/buckets/b1/datasets/dataset_pequeno.csv\"\n",
    "\n",
    "if ! test -f $archivo_destino_bucket; then\n",
    "  wget  $archivo_origen  -O $archivo_destino_bucket\n",
    "fi\n",
    "\n",
    "\n",
    "if ! test -f $archivo_destino; then\n",
    "  cp  $archivo_destino_bucket  $archivo_destino\n",
    "fi\n"
   ]
  },
  {
   "cell_type": "markdown",
   "metadata": {
    "id": "oSKhZRToy2F7"
   },
   "source": [
    "### 2.2 Optimizacion Hiperparámetros"
   ]
  },
  {
   "cell_type": "markdown",
   "metadata": {
    "id": "2kwPpHAtSmix"
   },
   "source": [
    "Esta parte se debe correr con el runtime en lenguaje R Ir al menu, Runtime -> Change Runtime Type -> Runtime type -> R"
   ]
  },
  {
   "cell_type": "markdown",
   "metadata": {
    "id": "xp4-Bj3aYI8d"
   },
   "source": [
    "### 2.2.1 Inicio"
   ]
  },
  {
   "cell_type": "markdown",
   "metadata": {
    "id": "zy8YTZfESxeJ"
   },
   "source": [
    "limpio el ambiente de R"
   ]
  },
  {
   "cell_type": "code",
   "execution_count": 52,
   "metadata": {
    "id": "gBq__iAdQliq"
   },
   "outputs": [
    {
     "data": {
      "text/html": [
       "'Mon Jul 28 17:12:57 2025'"
      ],
      "text/latex": [
       "'Mon Jul 28 17:12:57 2025'"
      ],
      "text/markdown": [
       "'Mon Jul 28 17:12:57 2025'"
      ],
      "text/plain": [
       "[1] \"Mon Jul 28 17:12:57 2025\""
      ]
     },
     "metadata": {},
     "output_type": "display_data"
    }
   ],
   "source": [
    "format(Sys.time(), \"%a %b %d %X %Y\")"
   ]
  },
  {
   "cell_type": "code",
   "execution_count": 53,
   "metadata": {
    "id": "7rdVrBojS1IV"
   },
   "outputs": [
    {
     "data": {
      "text/html": [
       "<table class=\"dataframe\">\n",
       "<caption>A matrix: 2 × 6 of type dbl</caption>\n",
       "<thead>\n",
       "\t<tr><th></th><th scope=col>used</th><th scope=col>(Mb)</th><th scope=col>gc trigger</th><th scope=col>(Mb)</th><th scope=col>max used</th><th scope=col>(Mb)</th></tr>\n",
       "</thead>\n",
       "<tbody>\n",
       "\t<tr><th scope=row>Ncells</th><td>2321892</td><td>124.1</td><td>  6339284</td><td> 338.6</td><td>  6339284</td><td> 338.6</td></tr>\n",
       "\t<tr><th scope=row>Vcells</th><td>4464533</td><td> 34.1</td><td>166845482</td><td>1273.0</td><td>173722430</td><td>1325.4</td></tr>\n",
       "</tbody>\n",
       "</table>\n"
      ],
      "text/latex": [
       "A matrix: 2 × 6 of type dbl\n",
       "\\begin{tabular}{r|llllll}\n",
       "  & used & (Mb) & gc trigger & (Mb) & max used & (Mb)\\\\\n",
       "\\hline\n",
       "\tNcells & 2321892 & 124.1 &   6339284 &  338.6 &   6339284 &  338.6\\\\\n",
       "\tVcells & 4464533 &  34.1 & 166845482 & 1273.0 & 173722430 & 1325.4\\\\\n",
       "\\end{tabular}\n"
      ],
      "text/markdown": [
       "\n",
       "A matrix: 2 × 6 of type dbl\n",
       "\n",
       "| <!--/--> | used | (Mb) | gc trigger | (Mb) | max used | (Mb) |\n",
       "|---|---|---|---|---|---|---|\n",
       "| Ncells | 2321892 | 124.1 |   6339284 |  338.6 |   6339284 |  338.6 |\n",
       "| Vcells | 4464533 |  34.1 | 166845482 | 1273.0 | 173722430 | 1325.4 |\n",
       "\n"
      ],
      "text/plain": [
       "       used    (Mb)  gc trigger (Mb)   max used  (Mb)  \n",
       "Ncells 2321892 124.1   6339284   338.6   6339284  338.6\n",
       "Vcells 4464533  34.1 166845482  1273.0 173722430 1325.4"
      ]
     },
     "metadata": {},
     "output_type": "display_data"
    }
   ],
   "source": [
    "# limpio la memoria\n",
    "rm(list=ls(all.names=TRUE)) # remove all objects\n",
    "gc(full=TRUE, verbose=FALSE) # garbage collection"
   ]
  },
  {
   "cell_type": "markdown",
   "metadata": {
    "id": "kuPfQ7ksjwW3"
   },
   "source": [
    "### 2.2.2 Carga de Librerias"
   ]
  },
  {
   "cell_type": "code",
   "execution_count": 54,
   "metadata": {
    "id": "lVyxLaJ1j1J_"
   },
   "outputs": [],
   "source": [
    "# cargo las librerias que necesito\n",
    "require(\"data.table\")\n",
    "require(\"parallel\")\n",
    "\n",
    "if( !require(\"primes\") ) install.packages(\"primes\")\n",
    "require(\"primes\")\n",
    "\n",
    "if( !require(\"utils\") ) install.packages(\"utils\")\n",
    "require(\"utils\")\n",
    "\n",
    "if( !require(\"rlist\") ) install.packages(\"rlist\")\n",
    "require(\"rlist\")\n",
    "\n",
    "if( !require(\"yaml\")) install.packages(\"yaml\")\n",
    "require(\"yaml\")\n",
    "\n",
    "if( !require(\"lightgbm\") ) install.packages(\"lightgbm\")\n",
    "require(\"lightgbm\")\n",
    "\n",
    "if( !require(\"DiceKriging\") ) install.packages(\"DiceKriging\")\n",
    "require(\"DiceKriging\")\n",
    "\n",
    "if( !require(\"mlrMBO\") ) install.packages(\"mlrMBO\")\n",
    "require(\"mlrMBO\")"
   ]
  },
  {
   "cell_type": "markdown",
   "metadata": {
    "id": "Iz-6Qt6BUaA3"
   },
   "source": [
    "### 2.2.3 Definicion de Parametros"
   ]
  },
  {
   "cell_type": "markdown",
   "metadata": {
    "id": "cOdlKd7lUm2I"
   },
   "source": [
    "aqui debe cargar SU semilla primigenia\n",
    "<br>recuerde cambiar el numero de experimento en cada corrida nueva"
   ]
  },
  {
   "cell_type": "code",
   "execution_count": 56,
   "metadata": {
    "id": "ASYkebOu2mF6"
   },
   "outputs": [],
   "source": [
    "PARAM <- list()\n",
    "PARAM$experimento <- 49451\n",
    "PARAM$semilla_primigenia <- 450001\n"
   ]
  },
  {
   "cell_type": "code",
   "execution_count": 57,
   "metadata": {
    "id": "ezOhQdbA293o"
   },
   "outputs": [],
   "source": [
    "PARAM$kaggle$competencia <- \"data-mining-analista-sr-2025-a\"\n",
    "PARAM$kaggle$cortes <- seq(10000, 12000, by= 500)"
   ]
  },
  {
   "cell_type": "code",
   "execution_count": 58,
   "metadata": {
    "id": "jtB0Lub42rHO"
   },
   "outputs": [],
   "source": [
    "# un undersampling de 0.1  toma solo el 10% de los CONTINUA\n",
    "# undersampling de 1.0  implica tomar TODOS los datos\n",
    "\n",
    "PARAM$trainingstrategy$undersampling <- 0.5"
   ]
  },
  {
   "cell_type": "code",
   "execution_count": 71,
   "metadata": {
    "id": "OFxm-xiNUOJX"
   },
   "outputs": [],
   "source": [
    "# Parametros LightGBM\n",
    "\n",
    "PARAM$hyperparametertuning$xval_folds <- 5\n",
    "\n",
    "# parametros fijos del LightGBM que se pisaran con la parte variable de la BO\n",
    "PARAM$lgbm$param_fijos <-  list(\n",
    "  boosting= \"gbdt\", # puede ir  dart  , ni pruebe random_forest\n",
    "  objective= \"binary\",\n",
    "  metric= \"auc\",\n",
    "  first_metric_only= FALSE,\n",
    "  boost_from_average= TRUE,\n",
    "  feature_pre_filter= FALSE,\n",
    "  force_row_wise= TRUE, # para reducir warnings\n",
    "  verbosity= -100,\n",
    "\n",
    "  seed= PARAM$semilla_primigenia,\n",
    "\n",
    "  max_depth= -1L, # -1 significa no limitar,  por ahora lo dejo fijo\n",
    "  min_gain_to_split= 0, # min_gain_to_split >= 0\n",
    "  min_sum_hessian_in_leaf= 0.001, #  min_sum_hessian_in_leaf >= 0.0\n",
    "  lambda_l1= 0.0, # lambda_l1 >= 0.0\n",
    "  lambda_l2= 0.0, # lambda_l2 >= 0.0\n",
    "  max_bin= 31L, # lo debo dejar fijo, no participa de la BO\n",
    "\n",
    "  bagging_fraction= 1.0, # 0.0 < bagging_fraction <= 1.0\n",
    "  pos_bagging_fraction= 1.0, # 0.0 < pos_bagging_fraction <= 1.0\n",
    "  neg_bagging_fraction= 1.0, # 0.0 < neg_bagging_fraction <= 1.0\n",
    "  is_unbalance= FALSE, #\n",
    "  scale_pos_weight= 1.0, # scale_pos_weight > 0.0\n",
    "\n",
    "  drop_rate= 0.1, # 0.0 < neg_bagging_fraction <= 1.0\n",
    "  max_drop= 50, # <=0 means no limit\n",
    "  skip_drop= 0.5, # 0.0 <= skip_drop <= 1.0\n",
    "\n",
    "  extra_trees= FALSE,\n",
    "\n",
    "  num_iterations= 2000,\n",
    "  learning_rate= 0.03,\n",
    "  feature_fraction= 0.75,\n",
    "  num_leaves= 1000,\n",
    "  min_data_in_leaf= 4000\n",
    ")\n"
   ]
  },
  {
   "cell_type": "markdown",
   "metadata": {
    "id": "D5Yj-JV4yvOt"
   },
   "source": [
    "Aqui se definen los hiperparámetros de LightGBM que participan de la Bayesian Optimization\n",
    "<br> si es un numero entero debe ir  makeIntegerParam\n",
    "<br> si es un numero real (con decimales) debe ir  makeNumericParam\n",
    "<br> es muy importante leer cuales son un lower y upper  permitidos y ademas razonables"
   ]
  },
  {
   "cell_type": "code",
   "execution_count": 72,
   "metadata": {
    "id": "jENpR26ZyuS8"
   },
   "outputs": [],
   "source": [
    "# Aqui se cargan los bordes de los hiperparametros de la BO\n",
    "PARAM$hypeparametertuning$hs <- makeParamSet(\n",
    "  makeIntegerParam(\"num_iterations\", lower= 8L, upper= 2048L),\n",
    "  makeNumericParam(\"learning_rate\", lower= 0.01, upper= 0.3),\n",
    "  makeNumericParam(\"feature_fraction\", lower= 0.1, upper= 1.0),\n",
    "  makeIntegerParam(\"num_leaves\", lower= 8L, upper= 2048L),\n",
    "  makeIntegerParam(\"min_data_in_leaf\", lower= 1L, upper= 8000L)\n",
    ")"
   ]
  },
  {
   "cell_type": "markdown",
   "metadata": {
    "id": "-_RPFUb3zMoW"
   },
   "source": [
    "A mayor cantidad de hiperparámetros, se debe aumentar las iteraciones de la Bayesian Optimization\n",
    "<br> 30 es un valor muy tacaño, pero corre rápido\n",
    "<br> deberia partir de 50, alcanzando los 100 si se dispone de tiempo"
   ]
  },
  {
   "cell_type": "code",
   "execution_count": 73,
   "metadata": {
    "id": "q5Rd3pnbzSiG"
   },
   "outputs": [],
   "source": [
    "PARAM$hyperparametertuning$iteraciones <- 100 # iteraciones bayesianas"
   ]
  },
  {
   "cell_type": "markdown",
   "metadata": {
    "id": "4RWZXL1VZjMI"
   },
   "source": [
    "### 2.2.4  Preprocesamiento"
   ]
  },
  {
   "cell_type": "code",
   "execution_count": 74,
   "metadata": {
    "id": "j3toG9-lZm4K"
   },
   "outputs": [],
   "source": [
    "# carpeta de trabajo\n",
    "\n",
    "setwd(\"/content/buckets/b1/exp\")\n",
    "experimento_folder <- paste0(\"HT\", PARAM$experimento)\n",
    "dir.create(experimento_folder, showWarnings=FALSE)\n",
    "setwd( paste0(\"/content/buckets/b1/exp/\", experimento_folder ))"
   ]
  },
  {
   "cell_type": "code",
   "execution_count": 75,
   "metadata": {
    "id": "FM3lxKoLZ643"
   },
   "outputs": [],
   "source": [
    "# lectura del dataset\n",
    "\n",
    "dataset <- fread(\"/content/datasets/dataset_pequeno.csv\")"
   ]
  },
  {
   "cell_type": "code",
   "execution_count": 76,
   "metadata": {
    "id": "OsJ-91UeZ-I_"
   },
   "outputs": [],
   "source": [
    "dataset_train <- dataset[foto_mes %in% c(202107)]"
   ]
  },
  {
   "cell_type": "code",
   "execution_count": 77,
   "metadata": {
    "id": "vrWE7BE0aB2J"
   },
   "outputs": [],
   "source": [
    "# paso la clase a binaria que tome valores {0,1}  enteros\n",
    "#  BAJA+1 y BAJA+2  son  1,   CONTINUA es 0\n",
    "\n",
    "dataset_train[,\n",
    "  clase01 := ifelse(clase_ternaria %in% c(\"BAJA+2\",\"BAJA+1\"), 1L, 0L)\n",
    "]"
   ]
  },
  {
   "cell_type": "code",
   "execution_count": 78,
   "metadata": {
    "id": "jP7YlQBnaW6W"
   },
   "outputs": [],
   "source": [
    "# defino los datos que forma parte del training\n",
    "# aqui se hace el undersampling de los CONTINUA\n",
    "# notar que para esto utilizo la SEGUNDA semilla\n",
    "\n",
    "set.seed(PARAM$semilla_primigenia, kind = \"L'Ecuyer-CMRG\")\n",
    "dataset_train[, azar := runif(nrow(dataset_train))]\n",
    "dataset_train[, training := 0L]\n",
    "\n",
    "dataset_train[\n",
    "  foto_mes %in% c(202107) &\n",
    "    (azar <= PARAM$trainingstrategy$undersampling | clase_ternaria %in% c(\"BAJA+1\", \"BAJA+2\")),\n",
    "  training := 1L\n",
    "]"
   ]
  },
  {
   "cell_type": "code",
   "execution_count": 79,
   "metadata": {
    "id": "xElu4s5W4rX7"
   },
   "outputs": [],
   "source": [
    "# los campos que se van a utilizar\n",
    "\n",
    "campos_buenos <- setdiff(\n",
    "  colnames(dataset_train),\n",
    "  c(\"clase_ternaria\", \"clase01\", \"azar\", \"training\")\n",
    ")"
   ]
  },
  {
   "cell_type": "code",
   "execution_count": 80,
   "metadata": {
    "id": "PppMHcGYaaol"
   },
   "outputs": [
    {
     "data": {
      "text/html": [
       "83619"
      ],
      "text/latex": [
       "83619"
      ],
      "text/markdown": [
       "83619"
      ],
      "text/plain": [
       "[1] 83619"
      ]
     },
     "metadata": {},
     "output_type": "display_data"
    },
    {
     "data": {
      "text/html": [
       "154"
      ],
      "text/latex": [
       "154"
      ],
      "text/markdown": [
       "154"
      ],
      "text/plain": [
       "[1] 154"
      ]
     },
     "metadata": {},
     "output_type": "display_data"
    }
   ],
   "source": [
    "# dejo los datos en el formato que necesita LightGBM\n",
    "\n",
    "dtrain <- lgb.Dataset(\n",
    "  data= data.matrix(dataset_train[training == 1L, campos_buenos, with= FALSE]),\n",
    "  label= dataset_train[training == 1L, clase01],\n",
    "  free_raw_data= FALSE\n",
    ")\n",
    "\n",
    "nrow(dtrain)\n",
    "ncol(dtrain)"
   ]
  },
  {
   "cell_type": "markdown",
   "metadata": {
    "id": "Ta-EkOu3cphF"
   },
   "source": [
    "2.2.5 Configuracion Bayesian Optimization"
   ]
  },
  {
   "cell_type": "code",
   "execution_count": 81,
   "metadata": {
    "id": "cjgfurjdfiXb"
   },
   "outputs": [],
   "source": [
    "# En el argumento x llegan los parmaetros de la bayesiana\n",
    "#  devuelve la AUC en cross validation del modelo entrenado\n",
    "\n",
    "EstimarGanancia_AUC_lightgbm <- function(x) {\n",
    "\n",
    "  # x pisa (o agrega) a param_fijos\n",
    "  param_completo <- modifyList(PARAM$lgbm$param_fijos, x)\n",
    "\n",
    "  # entreno LightGBM\n",
    "  modelocv <- lgb.cv(\n",
    "    data= dtrain,\n",
    "    nfold= PARAM$hyperparametertuning$xval_folds,\n",
    "    stratified= TRUE,\n",
    "    param= param_completo\n",
    "  )\n",
    "\n",
    "  # obtengo la ganancia\n",
    "  AUC <- modelocv$best_score\n",
    "\n",
    "  # hago espacio en la memoria\n",
    "  rm(modelocv)\n",
    "  gc(full= TRUE, verbose= FALSE)\n",
    "\n",
    "  message(format(Sys.time(), \"%a %b %d %X %Y\"), \" AUC \", AUC)\n",
    "\n",
    "  return(AUC)\n",
    "}"
   ]
  },
  {
   "cell_type": "code",
   "execution_count": 82,
   "metadata": {
    "id": "WLi_o1hocvN-"
   },
   "outputs": [],
   "source": [
    "# Aqui comienza la configuracion de la Bayesian Optimization\n",
    "\n",
    "# en este archivo quedan la evolucion binaria de la BO\n",
    "kbayesiana <- \"bayesiana.RDATA\"\n",
    "\n",
    "funcion_optimizar <- EstimarGanancia_AUC_lightgbm # la funcion que voy a maximizar\n",
    "\n",
    "configureMlr(show.learner.output= FALSE)\n",
    "\n",
    "# configuro la busqueda bayesiana,  los hiperparametros que se van a optimizar\n",
    "# por favor, no desesperarse por lo complejo\n",
    "\n",
    "obj.fun <- makeSingleObjectiveFunction(\n",
    "  fn= funcion_optimizar, # la funcion que voy a maximizar\n",
    "  minimize= FALSE, # estoy Maximizando la ganancia\n",
    "  noisy= TRUE,\n",
    "  par.set= PARAM$hypeparametertuning$hs, # definido al comienzo del programa\n",
    "  has.simple.signature= FALSE # paso los parametros en una lista\n",
    ")\n",
    "\n",
    "# cada 600 segundos guardo el resultado intermedio\n",
    "ctrl <- makeMBOControl(\n",
    "  save.on.disk.at.time= 600, # se graba cada 600 segundos\n",
    "  save.file.path= kbayesiana\n",
    ") # se graba cada 600 segundos\n",
    "\n",
    "# indico la cantidad de iteraciones que va a tener la Bayesian Optimization\n",
    "ctrl <- setMBOControlTermination(\n",
    "  ctrl,\n",
    "  iters= PARAM$hyperparametertuning$iteraciones\n",
    ") # cantidad de iteraciones\n",
    "\n",
    "# defino el método estandar para la creacion de los puntos iniciales,\n",
    "# los \"No Inteligentes\"\n",
    "ctrl <- setMBOControlInfill(ctrl, crit= makeMBOInfillCritEI())\n",
    "\n",
    "# establezco la funcion que busca el maximo\n",
    "surr.km <- makeLearner(\n",
    "  \"regr.km\",\n",
    "  predict.type= \"se\",\n",
    "  covtype= \"matern3_2\",\n",
    "  control= list(trace= TRUE)\n",
    ")\n"
   ]
  },
  {
   "cell_type": "markdown",
   "metadata": {
    "id": "_uUeVo5pc4zc"
   },
   "source": [
    "2.2.6 Corrida Bayesian Optimization"
   ]
  },
  {
   "cell_type": "code",
   "execution_count": 83,
   "metadata": {
    "id": "RcABNaKGciaz",
    "scrolled": true
   },
   "outputs": [
    {
     "name": "stderr",
     "output_type": "stream",
     "text": [
      "Computing y column(s) for design. Not provided.\n",
      "\n",
      "Mon Jul 28 17:17:27 2025 AUC 0.924009421362091\n",
      "\n",
      "Mon Jul 28 17:18:16 2025 AUC 0.925504494123034\n",
      "\n",
      "Mon Jul 28 17:18:47 2025 AUC 0.926340290213669\n",
      "\n",
      "Mon Jul 28 17:21:48 2025 AUC 0.925640354806941\n",
      "\n",
      "Mon Jul 28 17:22:16 2025 AUC 0.924388011965823\n",
      "\n",
      "Mon Jul 28 17:23:16 2025 AUC 0.924795891786695\n",
      "\n",
      "Mon Jul 28 17:23:50 2025 AUC 0.925027271404453\n",
      "\n",
      "Mon Jul 28 17:23:56 2025 AUC 0.92470721308394\n",
      "\n",
      "Mon Jul 28 17:23:59 2025 AUC 0.916370457525334\n",
      "\n",
      "Mon Jul 28 17:25:30 2025 AUC 0.925789633449213\n",
      "\n",
      "Mon Jul 28 17:26:18 2025 AUC 0.923578064365764\n",
      "\n",
      "Mon Jul 28 17:26:31 2025 AUC 0.927027316238924\n",
      "\n",
      "Mon Jul 28 17:28:26 2025 AUC 0.924599138046768\n",
      "\n",
      "Mon Jul 28 17:29:30 2025 AUC 0.926998864784989\n",
      "\n",
      "Mon Jul 28 17:30:27 2025 AUC 0.925138469814148\n",
      "\n",
      "Mon Jul 28 17:30:36 2025 AUC 0.92428271962826\n",
      "\n",
      "Mon Jul 28 17:30:56 2025 AUC 0.924011894638654\n",
      "\n",
      "Mon Jul 28 17:31:34 2025 AUC 0.924348650063015\n",
      "\n",
      "Mon Jul 28 17:32:48 2025 AUC 0.923527881926741\n",
      "\n",
      "Mon Jul 28 17:33:45 2025 AUC 0.929695525254557\n",
      "\n",
      "[mbo] 0: num_iterations=910; learning_rate=0.202; feature_fraction=0.209; num_leaves=1608; min_data_in_leaf=5906 : y = 0.924 : 39.5 secs : initdesign\n",
      "\n",
      "[mbo] 0: num_iterations=990; learning_rate=0.166; feature_fraction=0.365; num_leaves=574; min_data_in_leaf=4336 : y = 0.926 : 49.4 secs : initdesign\n",
      "\n",
      "[mbo] 0: num_iterations=1123; learning_rate=0.106; feature_fraction=0.711; num_leaves=491; min_data_in_leaf=6302 : y = 0.926 : 31.4 secs : initdesign\n",
      "\n",
      "[mbo] 0: num_iterations=1903; learning_rate=0.0938; feature_fraction=0.256; num_leaves=1149; min_data_in_leaf=231 : y = 0.926 : 180.4 secs : initdesign\n",
      "\n",
      "[mbo] 0: num_iterations=592; learning_rate=0.295; feature_fraction=0.589; num_leaves=972; min_data_in_leaf=3709 : y = 0.924 : 28.0 secs : initdesign\n",
      "\n",
      "[mbo] 0: num_iterations=1217; learning_rate=0.222; feature_fraction=0.379; num_leaves=1538; min_data_in_leaf=5035 : y = 0.925 : 60.0 secs : initdesign\n",
      "\n",
      "[mbo] 0: num_iterations=797; learning_rate=0.24; feature_fraction=0.801; num_leaves=2031; min_data_in_leaf=2438 : y = 0.925 : 34.0 secs : initdesign\n",
      "\n",
      "[mbo] 0: num_iterations=122; learning_rate=0.0823; feature_fraction=0.308; num_leaves=849; min_data_in_leaf=3599 : y = 0.925 : 6.5 secs : initdesign\n",
      "\n",
      "[mbo] 0: num_iterations=45; learning_rate=0.0319; feature_fraction=0.979; num_leaves=1289; min_data_in_leaf=1431 : y = 0.916 : 3.1 secs : initdesign\n",
      "\n",
      "[mbo] 0: num_iterations=1472; learning_rate=0.122; feature_fraction=0.515; num_leaves=743; min_data_in_leaf=2332 : y = 0.926 : 90.9 secs : initdesign\n",
      "\n",
      "[mbo] 0: num_iterations=1547; learning_rate=0.268; feature_fraction=0.744; num_leaves=716; min_data_in_leaf=5410 : y = 0.924 : 47.4 secs : initdesign\n",
      "\n",
      "[mbo] 0: num_iterations=390; learning_rate=0.139; feature_fraction=0.647; num_leaves=1362; min_data_in_leaf=4470 : y = 0.927 : 13.7 secs : initdesign\n",
      "\n",
      "[mbo] 0: num_iterations=1667; learning_rate=0.277; feature_fraction=0.47; num_leaves=1670; min_data_in_leaf=1687 : y = 0.925 : 114.4 secs : initdesign\n",
      "\n",
      "[mbo] 0: num_iterations=1761; learning_rate=0.0183; feature_fraction=0.911; num_leaves=222; min_data_in_leaf=3058 : y = 0.927 : 64.4 secs : initdesign\n",
      "\n",
      "[mbo] 0: num_iterations=1288; learning_rate=0.252; feature_fraction=0.637; num_leaves=31; min_data_in_leaf=847 : y = 0.925 : 57.2 secs : initdesign\n",
      "\n",
      "[mbo] 0: num_iterations=289; learning_rate=0.142; feature_fraction=0.898; num_leaves=166; min_data_in_leaf=7791 : y = 0.924 : 8.1 secs : initdesign\n",
      "\n",
      "[mbo] 0: num_iterations=495; learning_rate=0.173; feature_fraction=0.163; num_leaves=1034; min_data_in_leaf=7192 : y = 0.924 : 20.7 secs : initdesign\n",
      "\n",
      "[mbo] 0: num_iterations=1375; learning_rate=0.184; feature_fraction=0.826; num_leaves=1861; min_data_in_leaf=7324 : y = 0.924 : 37.3 secs : initdesign\n",
      "\n",
      "[mbo] 0: num_iterations=2032; learning_rate=0.0454; feature_fraction=0.132; num_leaves=401; min_data_in_leaf=6545 : y = 0.924 : 74.4 secs : initdesign\n",
      "\n",
      "[mbo] 0: num_iterations=654; learning_rate=0.066; feature_fraction=0.441; num_leaves=1822; min_data_in_leaf=794 : y = 0.93 : 56.6 secs : initdesign\n",
      "\n",
      "Saved the current state after iteration 1 in the file bayesiana.RDATA.\n",
      "\n",
      "Mon Jul 28 17:37:06 2025 AUC 0.925004889132434\n",
      "\n",
      "[mbo] 1: num_iterations=671; learning_rate=0.0725; feature_fraction=0.51; num_leaves=2048; min_data_in_leaf=14 : y = 0.925 : 196.7 secs : infill_ei\n",
      "\n",
      "Mon Jul 28 17:37:39 2025 AUC 0.929815291387219\n",
      "\n",
      "[mbo] 2: num_iterations=442; learning_rate=0.0412; feature_fraction=0.29; num_leaves=1986; min_data_in_leaf=748 : y = 0.93 : 33.2 secs : infill_ei\n",
      "\n",
      "Mon Jul 28 17:38:26 2025 AUC 0.930598494285883\n",
      "\n",
      "[mbo] 3: num_iterations=587; learning_rate=0.0471; feature_fraction=0.374; num_leaves=1819; min_data_in_leaf=855 : y = 0.931 : 46.2 secs : infill_ei\n",
      "\n",
      "Mon Jul 28 17:39:34 2025 AUC 0.928267320505806\n",
      "\n",
      "[mbo] 4: num_iterations=905; learning_rate=0.0616; feature_fraction=0.322; num_leaves=1926; min_data_in_leaf=882 : y = 0.928 : 67.5 secs : infill_ei\n",
      "\n",
      "Mon Jul 28 17:40:07 2025 AUC 0.929185144285238\n",
      "\n",
      "[mbo] 5: num_iterations=394; learning_rate=0.0343; feature_fraction=0.457; num_leaves=1473; min_data_in_leaf=831 : y = 0.929 : 32.1 secs : infill_ei\n",
      "\n",
      "Mon Jul 28 17:40:41 2025 AUC 0.927358232725253\n",
      "\n",
      "[mbo] 6: num_iterations=475; learning_rate=0.0911; feature_fraction=0.387; num_leaves=1693; min_data_in_leaf=1198 : y = 0.927 : 32.8 secs : infill_ei\n",
      "\n",
      "Mon Jul 28 17:41:14 2025 AUC 0.928740033393483\n",
      "\n",
      "[mbo] 7: num_iterations=397; learning_rate=0.0684; feature_fraction=0.374; num_leaves=1940; min_data_in_leaf=740 : y = 0.929 : 33.1 secs : infill_ei\n",
      "\n",
      "Mon Jul 28 17:41:23 2025 AUC 0.926352848672749\n",
      "\n",
      "[mbo] 8: num_iterations=100; learning_rate=0.0366; feature_fraction=0.419; num_leaves=1812; min_data_in_leaf=1150 : y = 0.926 : 7.6 secs : infill_ei\n",
      "\n",
      "Mon Jul 28 17:42:47 2025 AUC 0.9297984194795\n",
      "\n",
      "[mbo] 9: num_iterations=961; learning_rate=0.0453; feature_fraction=0.423; num_leaves=1691; min_data_in_leaf=710 : y = 0.93 : 84.0 secs : infill_ei\n",
      "\n",
      "Mon Jul 28 17:43:42 2025 AUC 0.930162678463764\n",
      "\n",
      "[mbo] 10: num_iterations=675; learning_rate=0.0273; feature_fraction=0.404; num_leaves=1396; min_data_in_leaf=797 : y = 0.93 : 53.8 secs : infill_ei\n",
      "\n",
      "Mon Jul 28 17:44:34 2025 AUC 0.929373743640088\n",
      "\n",
      "[mbo] 11: num_iterations=626; learning_rate=0.0339; feature_fraction=0.379; num_leaves=1725; min_data_in_leaf=741 : y = 0.929 : 51.3 secs : infill_ei\n",
      "\n",
      "Saved the current state after iteration 12 in the file bayesiana.RDATA.\n",
      "\n",
      "Mon Jul 28 17:45:22 2025 AUC 0.928509400856853\n",
      "\n",
      "[mbo] 12: num_iterations=733; learning_rate=0.0493; feature_fraction=0.439; num_leaves=1480; min_data_in_leaf=2190 : y = 0.929 : 44.8 secs : infill_ei\n",
      "\n",
      "Mon Jul 28 17:45:58 2025 AUC 0.929295253718383\n",
      "\n",
      "[mbo] 13: num_iterations=465; learning_rate=0.0466; feature_fraction=0.358; num_leaves=1098; min_data_in_leaf=803 : y = 0.929 : 35.6 secs : infill_ei\n",
      "\n",
      "Mon Jul 28 17:49:21 2025 AUC 0.925601213594215\n",
      "\n",
      "[mbo] 14: num_iterations=449; learning_rate=0.0325; feature_fraction=0.365; num_leaves=1307; min_data_in_leaf=54 : y = 0.926 : 201.8 secs : infill_ei\n",
      "\n",
      "Mon Jul 28 17:50:20 2025 AUC 0.929172243802501\n",
      "\n",
      "[mbo] 15: num_iterations=714; learning_rate=0.048; feature_fraction=0.42; num_leaves=1689; min_data_in_leaf=794 : y = 0.929 : 58.7 secs : infill_ei\n",
      "\n",
      "Mon Jul 28 17:50:55 2025 AUC 0.92965948758828\n",
      "\n",
      "[mbo] 16: num_iterations=511; learning_rate=0.0541; feature_fraction=0.229; num_leaves=1947; min_data_in_leaf=863 : y = 0.93 : 34.3 secs : infill_ei\n",
      "\n",
      "Mon Jul 28 17:51:44 2025 AUC 0.928780446019956\n",
      "\n",
      "[mbo] 17: num_iterations=606; learning_rate=0.0577; feature_fraction=0.453; num_leaves=1446; min_data_in_leaf=891 : y = 0.929 : 48.6 secs : infill_ei\n",
      "\n",
      "Mon Jul 28 17:54:54 2025 AUC 0.927388846455004\n",
      "\n",
      "[mbo] 18: num_iterations=1162; learning_rate=0.0532; feature_fraction=0.382; num_leaves=1795; min_data_in_leaf=184 : y = 0.927 : 188.8 secs : infill_ei\n",
      "\n",
      "Saved the current state after iteration 19 in the file bayesiana.RDATA.\n",
      "\n",
      "Mon Jul 28 17:56:20 2025 AUC 0.930240244839793\n",
      "\n",
      "[mbo] 19: num_iterations=1079; learning_rate=0.0425; feature_fraction=0.362; num_leaves=1510; min_data_in_leaf=874 : y = 0.93 : 81.9 secs : infill_ei\n",
      "\n",
      "Mon Jul 28 17:57:39 2025 AUC 0.928428909969518\n",
      "\n",
      "[mbo] 20: num_iterations=1015; learning_rate=0.0268; feature_fraction=0.448; num_leaves=1520; min_data_in_leaf=952 : y = 0.928 : 78.1 secs : infill_ei\n",
      "\n",
      "Mon Jul 28 17:57:47 2025 AUC 0.923710182921467\n",
      "\n",
      "[mbo] 21: num_iterations=86; learning_rate=0.0261; feature_fraction=0.445; num_leaves=1032; min_data_in_leaf=675 : y = 0.924 : 7.9 secs : infill_ei\n",
      "\n",
      "Mon Jul 28 17:58:54 2025 AUC 0.929037482487913\n",
      "\n",
      "[mbo] 22: num_iterations=877; learning_rate=0.0365; feature_fraction=0.331; num_leaves=1458; min_data_in_leaf=830 : y = 0.929 : 66.4 secs : infill_ei\n",
      "\n",
      "Mon Jul 28 17:59:27 2025 AUC 0.929059269947461\n",
      "\n",
      "[mbo] 23: num_iterations=502; learning_rate=0.0433; feature_fraction=0.381; num_leaves=1847; min_data_in_leaf=1435 : y = 0.929 : 32.3 secs : infill_ei\n",
      "\n",
      "Mon Jul 28 18:00:06 2025 AUC 0.928649883115472\n",
      "\n",
      "[mbo] 24: num_iterations=514; learning_rate=0.0461; feature_fraction=0.379; num_leaves=2041; min_data_in_leaf=938 : y = 0.929 : 38.4 secs : infill_ei\n",
      "\n",
      "Mon Jul 28 18:00:53 2025 AUC 0.92850349448825\n",
      "\n",
      "[mbo] 25: num_iterations=670; learning_rate=0.0473; feature_fraction=0.334; num_leaves=1694; min_data_in_leaf=1069 : y = 0.929 : 45.6 secs : infill_ei\n",
      "\n",
      "Mon Jul 28 18:03:20 2025 AUC 0.929762937331602\n",
      "\n",
      "[mbo] 26: num_iterations=1872; learning_rate=0.0161; feature_fraction=0.374; num_leaves=1351; min_data_in_leaf=832 : y = 0.93 : 147.0 secs : infill_ei\n",
      "\n",
      "Mon Jul 28 18:04:28 2025 AUC 0.929881594125248\n",
      "\n",
      "[mbo] 27: num_iterations=889; learning_rate=0.0462; feature_fraction=0.376; num_leaves=1335; min_data_in_leaf=946 : y = 0.93 : 66.9 secs : infill_ei\n",
      "\n",
      "Mon Jul 28 18:05:33 2025 AUC 0.929891088160584\n",
      "\n",
      "[mbo] 28: num_iterations=873; learning_rate=0.0229; feature_fraction=0.382; num_leaves=1005; min_data_in_leaf=859 : y = 0.93 : 64.8 secs : infill_ei\n",
      "\n",
      "Saved the current state after iteration 29 in the file bayesiana.RDATA.\n",
      "\n",
      "Mon Jul 28 18:07:20 2025 AUC 0.928075413333445\n",
      "\n",
      "[mbo] 29: num_iterations=1752; learning_rate=0.0489; feature_fraction=0.361; num_leaves=1722; min_data_in_leaf=2038 : y = 0.928 : 102.4 secs : infill_ei\n",
      "\n",
      "Mon Jul 28 18:09:01 2025 AUC 0.929863232465423\n",
      "\n",
      "[mbo] 30: num_iterations=1233; learning_rate=0.0397; feature_fraction=0.386; num_leaves=1333; min_data_in_leaf=773 : y = 0.93 : 100.3 secs : infill_ei\n",
      "\n",
      "Mon Jul 28 18:11:35 2025 AUC 0.930015178275483\n",
      "\n",
      "[mbo] 31: num_iterations=1595; learning_rate=0.0502; feature_fraction=0.454; num_leaves=1802; min_data_in_leaf=642 : y = 0.93 : 152.9 secs : infill_ei\n",
      "\n",
      "Mon Jul 28 18:11:55 2025 AUC 0.929230465324341\n",
      "\n",
      "[mbo] 32: num_iterations=267; learning_rate=0.0402; feature_fraction=0.266; num_leaves=1735; min_data_in_leaf=817 : y = 0.929 : 19.3 secs : infill_ei\n",
      "\n",
      "Mon Jul 28 18:13:17 2025 AUC 0.928826583461117\n",
      "\n",
      "[mbo] 33: num_iterations=1203; learning_rate=0.0255; feature_fraction=0.395; num_leaves=1496; min_data_in_leaf=1358 : y = 0.929 : 81.2 secs : infill_ei\n",
      "\n",
      "Mon Jul 28 18:14:38 2025 AUC 0.92824636540356\n",
      "\n",
      "[mbo] 34: num_iterations=1279; learning_rate=0.0552; feature_fraction=0.376; num_leaves=1109; min_data_in_leaf=1682 : y = 0.928 : 80.0 secs : infill_ei\n",
      "\n",
      "Mon Jul 28 18:15:01 2025 AUC 0.928141153565072\n",
      "\n",
      "[mbo] 35: num_iterations=355; learning_rate=0.0264; feature_fraction=0.368; num_leaves=1819; min_data_in_leaf=1606 : y = 0.928 : 22.7 secs : infill_ei\n",
      "\n",
      "Mon Jul 28 18:17:20 2025 AUC 0.929977372390672\n",
      "\n",
      "[mbo] 36: num_iterations=1637; learning_rate=0.0629; feature_fraction=0.388; num_leaves=1834; min_data_in_leaf=762 : y = 0.93 : 137.6 secs : infill_ei\n",
      "\n",
      "Saved the current state after iteration 37 in the file bayesiana.RDATA.\n",
      "\n",
      "Mon Jul 28 18:20:00 2025 AUC 0.929409363574965\n",
      "\n",
      "[mbo] 37: num_iterations=1753; learning_rate=0.0573; feature_fraction=0.422; num_leaves=1229; min_data_in_leaf=687 : y = 0.929 : 156.1 secs : infill_ei\n",
      "\n",
      "Mon Jul 28 18:22:36 2025 AUC 0.929587333507901\n",
      "\n",
      "[mbo] 38: num_iterations=1871; learning_rate=0.0432; feature_fraction=0.405; num_leaves=1516; min_data_in_leaf=778 : y = 0.93 : 155.7 secs : infill_ei\n",
      "\n",
      "Mon Jul 28 18:24:05 2025 AUC 0.930031362410761\n",
      "\n",
      "[mbo] 39: num_iterations=1135; learning_rate=0.0166; feature_fraction=0.373; num_leaves=1825; min_data_in_leaf=872 : y = 0.93 : 87.6 secs : infill_ei\n",
      "\n",
      "Mon Jul 28 18:25:05 2025 AUC 0.927933809175145\n",
      "\n",
      "[mbo] 40: num_iterations=879; learning_rate=0.0415; feature_fraction=0.465; num_leaves=1895; min_data_in_leaf=1586 : y = 0.928 : 58.9 secs : infill_ei\n",
      "\n",
      "Mon Jul 28 18:27:00 2025 AUC 0.924538728236904\n",
      "\n",
      "[mbo] 41: num_iterations=1330; learning_rate=0.172; feature_fraction=0.446; num_leaves=1938; min_data_in_leaf=703 : y = 0.925 : 114.5 secs : infill_ei\n",
      "\n",
      "Mon Jul 28 18:28:14 2025 AUC 0.929604119910609\n",
      "\n",
      "[mbo] 42: num_iterations=965; learning_rate=0.0494; feature_fraction=0.369; num_leaves=1824; min_data_in_leaf=909 : y = 0.93 : 73.4 secs : infill_ei\n",
      "\n",
      "Saved the current state after iteration 43 in the file bayesiana.RDATA.\n",
      "\n",
      "Mon Jul 28 18:30:17 2025 AUC 0.929753054569239\n",
      "\n",
      "[mbo] 43: num_iterations=1477; learning_rate=0.0441; feature_fraction=0.371; num_leaves=1680; min_data_in_leaf=811 : y = 0.93 : 118.5 secs : infill_ei\n",
      "\n",
      "Mon Jul 28 18:31:03 2025 AUC 0.930555301500309\n",
      "\n",
      "[mbo] 44: num_iterations=580; learning_rate=0.0131; feature_fraction=0.369; num_leaves=1356; min_data_in_leaf=868 : y = 0.931 : 44.4 secs : infill_ei\n",
      "\n",
      "Mon Jul 28 18:32:13 2025 AUC 0.930260123377692\n",
      "\n",
      "[mbo] 45: num_iterations=923; learning_rate=0.0165; feature_fraction=0.375; num_leaves=1411; min_data_in_leaf=864 : y = 0.93 : 69.6 secs : infill_ei\n",
      "\n",
      "Mon Jul 28 18:33:36 2025 AUC 0.93054367729721\n",
      "\n",
      "[mbo] 46: num_iterations=1054; learning_rate=0.0122; feature_fraction=0.37; num_leaves=1187; min_data_in_leaf=820 : y = 0.931 : 81.2 secs : infill_ei\n",
      "\n",
      "Mon Jul 28 18:34:29 2025 AUC 0.929654367531603\n",
      "\n",
      "[mbo] 47: num_iterations=685; learning_rate=0.0167; feature_fraction=0.385; num_leaves=1225; min_data_in_leaf=874 : y = 0.93 : 51.4 secs : infill_ei\n",
      "\n",
      "Mon Jul 28 18:35:21 2025 AUC 0.929092086342536\n",
      "\n",
      "[mbo] 48: num_iterations=613; learning_rate=0.0434; feature_fraction=0.466; num_leaves=1869; min_data_in_leaf=813 : y = 0.929 : 51.9 secs : infill_ei\n",
      "\n",
      "Mon Jul 28 18:36:58 2025 AUC 0.930387695278948\n",
      "\n",
      "[mbo] 49: num_iterations=1298; learning_rate=0.0159; feature_fraction=0.362; num_leaves=1080; min_data_in_leaf=886 : y = 0.93 : 95.9 secs : infill_ei\n",
      "\n",
      "Mon Jul 28 18:37:44 2025 AUC 0.929581358464612\n",
      "\n",
      "[mbo] 50: num_iterations=590; learning_rate=0.0464; feature_fraction=0.365; num_leaves=1520; min_data_in_leaf=850 : y = 0.93 : 45.6 secs : infill_ei\n",
      "\n",
      "Mon Jul 28 18:40:42 2025 AUC 0.929510726265245\n",
      "\n",
      "[mbo] 51: num_iterations=1438; learning_rate=0.0443; feature_fraction=0.433; num_leaves=1424; min_data_in_leaf=380 : y = 0.93 : 176.2 secs : infill_ei\n",
      "\n",
      "Saved the current state after iteration 52 in the file bayesiana.RDATA.\n",
      "\n",
      "Mon Jul 28 18:42:04 2025 AUC 0.931341657463438\n",
      "\n",
      "[mbo] 52: num_iterations=1054; learning_rate=0.0113; feature_fraction=0.35; num_leaves=1001; min_data_in_leaf=843 : y = 0.931 : 78.1 secs : infill_ei\n",
      "\n",
      "Mon Jul 28 18:43:21 2025 AUC 0.92995779467188\n",
      "\n",
      "[mbo] 53: num_iterations=1053; learning_rate=0.0146; feature_fraction=0.351; num_leaves=776; min_data_in_leaf=891 : y = 0.93 : 75.5 secs : infill_ei\n",
      "\n",
      "Mon Jul 28 18:44:27 2025 AUC 0.930757849590726\n",
      "\n",
      "[mbo] 54: num_iterations=875; learning_rate=0.0104; feature_fraction=0.349; num_leaves=1631; min_data_in_leaf=830 : y = 0.931 : 65.3 secs : infill_ei\n",
      "\n",
      "Mon Jul 28 18:45:40 2025 AUC 0.928820533892217\n",
      "\n",
      "[mbo] 55: num_iterations=1070; learning_rate=0.0103; feature_fraction=0.311; num_leaves=992; min_data_in_leaf=976 : y = 0.929 : 72.3 secs : infill_ei\n",
      "\n",
      "Mon Jul 28 18:47:07 2025 AUC 0.931347075699087\n",
      "\n",
      "[mbo] 56: num_iterations=1187; learning_rate=0.0101; feature_fraction=0.352; num_leaves=1363; min_data_in_leaf=907 : y = 0.931 : 86.2 secs : infill_ei\n",
      "\n",
      "Mon Jul 28 18:47:51 2025 AUC 0.92944722868719\n",
      "\n",
      "[mbo] 57: num_iterations=606; learning_rate=0.0101; feature_fraction=0.262; num_leaves=1900; min_data_in_leaf=802 : y = 0.929 : 43.5 secs : infill_ei\n",
      "\n",
      "Mon Jul 28 18:48:59 2025 AUC 0.930210618418142\n",
      "\n",
      "[mbo] 58: num_iterations=930; learning_rate=0.0105; feature_fraction=0.351; num_leaves=1036; min_data_in_leaf=915 : y = 0.93 : 67.2 secs : infill_ei\n",
      "\n",
      "Mon Jul 28 18:50:49 2025 AUC 0.929874183679985\n",
      "\n",
      "[mbo] 59: num_iterations=1359; learning_rate=0.0441; feature_fraction=0.356; num_leaves=952; min_data_in_leaf=741 : y = 0.93 : 108.3 secs : infill_ei\n",
      "\n",
      "Saved the current state after iteration 60 in the file bayesiana.RDATA.\n",
      "\n",
      "Mon Jul 28 18:53:04 2025 AUC 0.929598129962381\n",
      "\n",
      "[mbo] 60: num_iterations=1645; learning_rate=0.0113; feature_fraction=0.345; num_leaves=1947; min_data_in_leaf=758 : y = 0.93 : 128.9 secs : infill_ei\n",
      "\n",
      "Mon Jul 28 18:54:38 2025 AUC 0.930622740937585\n",
      "\n",
      "[mbo] 61: num_iterations=1242; learning_rate=0.0168; feature_fraction=0.348; num_leaves=1343; min_data_in_leaf=836 : y = 0.931 : 92.5 secs : infill_ei\n",
      "\n",
      "Mon Jul 28 18:58:05 2025 AUC 0.930723767964955\n",
      "\n",
      "[mbo] 62: num_iterations=1560; learning_rate=0.0132; feature_fraction=0.384; num_leaves=1362; min_data_in_leaf=298 : y = 0.931 : 206.8 secs : infill_ei\n",
      "\n",
      "Mon Jul 28 19:00:08 2025 AUC 0.929166038718942\n",
      "\n",
      "[mbo] 63: num_iterations=1358; learning_rate=0.011; feature_fraction=0.349; num_leaves=884; min_data_in_leaf=519 : y = 0.929 : 121.3 secs : infill_ei\n",
      "\n",
      "Mon Jul 28 19:03:00 2025 AUC 0.931211263858989\n",
      "\n",
      "[mbo] 64: num_iterations=1543; learning_rate=0.01; feature_fraction=0.405; num_leaves=1537; min_data_in_leaf=395 : y = 0.931 : 171.8 secs : infill_ei\n",
      "\n",
      "Saved the current state after iteration 65 in the file bayesiana.RDATA.\n",
      "\n",
      "Mon Jul 28 19:05:22 2025 AUC 0.930305292312865\n",
      "\n",
      "[mbo] 65: num_iterations=1563; learning_rate=0.0119; feature_fraction=0.4; num_leaves=1066; min_data_in_leaf=639 : y = 0.93 : 136.3 secs : infill_ei\n",
      "\n",
      "Mon Jul 28 19:08:07 2025 AUC 0.929864442858875\n",
      "\n",
      "[mbo] 66: num_iterations=1631; learning_rate=0.0248; feature_fraction=0.394; num_leaves=1742; min_data_in_leaf=508 : y = 0.93 : 163.7 secs : infill_ei\n",
      "\n",
      "Mon Jul 28 19:09:38 2025 AUC 0.929981421311597\n",
      "\n",
      "[mbo] 67: num_iterations=1139; learning_rate=0.0166; feature_fraction=0.362; num_leaves=994; min_data_in_leaf=746 : y = 0.93 : 89.5 secs : infill_ei\n",
      "\n",
      "Mon Jul 28 19:10:37 2025 AUC 0.926982499536236\n",
      "\n",
      "[mbo] 68: num_iterations=1077; learning_rate=0.0114; feature_fraction=0.347; num_leaves=1825; min_data_in_leaf=2705 : y = 0.927 : 58.1 secs : infill_ei\n",
      "\n",
      "Mon Jul 28 19:13:10 2025 AUC 0.929625753651724\n",
      "\n",
      "[mbo] 69: num_iterations=1324; learning_rate=0.0102; feature_fraction=0.363; num_leaves=1584; min_data_in_leaf=356 : y = 0.93 : 152.6 secs : infill_ei\n",
      "\n",
      "Saved the current state after iteration 70 in the file bayesiana.RDATA.\n",
      "\n",
      "Mon Jul 28 19:16:05 2025 AUC 0.931139224878838\n",
      "\n",
      "[mbo] 70: num_iterations=1647; learning_rate=0.0102; feature_fraction=0.408; num_leaves=1374; min_data_in_leaf=464 : y = 0.931 : 169.7 secs : infill_ei\n",
      "\n",
      "Mon Jul 28 19:16:44 2025 AUC 0.928990189914451\n",
      "\n",
      "[mbo] 71: num_iterations=567; learning_rate=0.0549; feature_fraction=0.404; num_leaves=594; min_data_in_leaf=1244 : y = 0.929 : 38.5 secs : infill_ei\n",
      "\n",
      "Mon Jul 28 19:17:58 2025 AUC 0.917264093643842\n",
      "\n",
      "[mbo] 72: num_iterations=785; learning_rate=0.259; feature_fraction=0.283; num_leaves=1365; min_data_in_leaf=194 : y = 0.917 : 72.5 secs : infill_ei\n",
      "\n",
      "Mon Jul 28 19:18:32 2025 AUC 0.927561069212327\n",
      "\n",
      "[mbo] 73: num_iterations=618; learning_rate=0.0497; feature_fraction=0.372; num_leaves=1467; min_data_in_leaf=2985 : y = 0.928 : 33.2 secs : infill_ei\n",
      "\n",
      "Mon Jul 28 19:20:29 2025 AUC 0.929064347113172\n",
      "\n",
      "[mbo] 74: num_iterations=1559; learning_rate=0.0104; feature_fraction=0.419; num_leaves=1994; min_data_in_leaf=984 : y = 0.929 : 116.2 secs : infill_ei\n",
      "\n",
      "Mon Jul 28 19:22:27 2025 AUC 0.929632797133256\n",
      "\n",
      "[mbo] 75: num_iterations=1628; learning_rate=0.0179; feature_fraction=0.344; num_leaves=984; min_data_in_leaf=894 : y = 0.93 : 116.9 secs : infill_ei\n",
      "\n",
      "Mon Jul 28 19:24:30 2025 AUC 0.930129428986097\n",
      "\n",
      "[mbo] 76: num_iterations=1577; learning_rate=0.0208; feature_fraction=0.41; num_leaves=1428; min_data_in_leaf=859 : y = 0.93 : 122.9 secs : infill_ei\n",
      "\n",
      "Saved the current state after iteration 77 in the file bayesiana.RDATA.\n",
      "\n",
      "Mon Jul 28 19:26:06 2025 AUC 0.929996352122736\n",
      "\n",
      "[mbo] 77: num_iterations=1176; learning_rate=0.0109; feature_fraction=0.356; num_leaves=1674; min_data_in_leaf=838 : y = 0.93 : 90.9 secs : infill_ei\n",
      "\n",
      "Mon Jul 28 19:30:01 2025 AUC 0.930820457577789\n",
      "\n",
      "[mbo] 78: num_iterations=1842; learning_rate=0.0102; feature_fraction=0.413; num_leaves=1377; min_data_in_leaf=331 : y = 0.931 : 233.5 secs : infill_ei\n",
      "\n",
      "Mon Jul 28 19:31:25 2025 AUC 0.929671438904405\n",
      "\n",
      "[mbo] 79: num_iterations=1065; learning_rate=0.0511; feature_fraction=0.346; num_leaves=1525; min_data_in_leaf=799 : y = 0.93 : 82.5 secs : infill_ei\n",
      "\n",
      "Mon Jul 28 19:33:01 2025 AUC 0.929214153603779\n",
      "\n",
      "[mbo] 80: num_iterations=612; learning_rate=0.0112; feature_fraction=0.374; num_leaves=1813; min_data_in_leaf=218 : y = 0.929 : 95.7 secs : infill_ei\n",
      "\n",
      "Mon Jul 28 19:35:19 2025 AUC 0.930392817129197\n",
      "\n",
      "[mbo] 81: num_iterations=1491; learning_rate=0.0101; feature_fraction=0.419; num_leaves=1538; min_data_in_leaf=610 : y = 0.93 : 136.4 secs : infill_ei\n",
      "\n",
      "Saved the current state after iteration 82 in the file bayesiana.RDATA.\n",
      "\n",
      "Mon Jul 28 19:51:32 2025 AUC 0.927481307256356\n",
      "\n",
      "[mbo] 82: num_iterations=1820; learning_rate=0.0102; feature_fraction=0.524; num_leaves=1843; min_data_in_leaf=10 : y = 0.927 : 967.9 secs : infill_ei\n",
      "\n",
      "Saved the current state after iteration 83 in the file bayesiana.RDATA.\n",
      "\n",
      "Mon Jul 28 19:56:52 2025 AUC 0.928742759419543\n",
      "\n",
      "[mbo] 83: num_iterations=1252; learning_rate=0.0134; feature_fraction=0.409; num_leaves=527; min_data_in_leaf=22 : y = 0.929 : 315.1 secs : infill_ei\n",
      "\n",
      "Mon Jul 28 19:58:55 2025 AUC 0.927746667851838\n",
      "\n",
      "[mbo] 84: num_iterations=1600; learning_rate=0.0654; feature_fraction=0.437; num_leaves=1831; min_data_in_leaf=1146 : y = 0.928 : 121.3 secs : infill_ei\n",
      "\n",
      "Mon Jul 28 19:59:36 2025 AUC 0.929855059627058\n",
      "\n",
      "[mbo] 85: num_iterations=541; learning_rate=0.0141; feature_fraction=0.346; num_leaves=1844; min_data_in_leaf=864 : y = 0.93 : 40.5 secs : infill_ei\n",
      "\n",
      "Mon Jul 28 20:12:59 2025 AUC 0.927588737364878\n",
      "\n",
      "[mbo] 86: num_iterations=1701; learning_rate=0.0105; feature_fraction=0.463; num_leaves=1555; min_data_in_leaf=9 : y = 0.928 : 802.2 secs : infill_ei\n",
      "\n",
      "Saved the current state after iteration 87 in the file bayesiana.RDATA.\n",
      "\n",
      "Mon Jul 28 20:13:40 2025 AUC 0.926932579487421\n",
      "\n",
      "[mbo] 87: num_iterations=576; learning_rate=0.02; feature_fraction=0.42; num_leaves=1484; min_data_in_leaf=2636 : y = 0.927 : 34.4 secs : infill_ei\n",
      "\n",
      "Mon Jul 28 20:15:14 2025 AUC 0.931229898150976\n",
      "\n",
      "[mbo] 88: num_iterations=833; learning_rate=0.0101; feature_fraction=0.403; num_leaves=1381; min_data_in_leaf=388 : y = 0.931 : 93.0 secs : infill_ei\n",
      "\n",
      "Mon Jul 28 20:16:20 2025 AUC 0.92892953229147\n",
      "\n",
      "[mbo] 89: num_iterations=870; learning_rate=0.0206; feature_fraction=0.346; num_leaves=939; min_data_in_leaf=852 : y = 0.929 : 64.8 secs : infill_ei\n",
      "\n",
      "Mon Jul 28 20:17:16 2025 AUC 0.925804246379101\n",
      "\n",
      "[mbo] 90: num_iterations=1558; learning_rate=0.0452; feature_fraction=0.612; num_leaves=2043; min_data_in_leaf=6942 : y = 0.926 : 55.0 secs : infill_ei\n",
      "\n",
      "Mon Jul 28 20:18:55 2025 AUC 0.928108905744203\n",
      "\n",
      "[mbo] 91: num_iterations=1032; learning_rate=0.0518; feature_fraction=0.408; num_leaves=1069; min_data_in_leaf=613 : y = 0.928 : 98.2 secs : infill_ei\n",
      "\n",
      "Mon Jul 28 20:23:20 2025 AUC 0.928830392488464\n",
      "\n",
      "[mbo] 92: num_iterations=1577; learning_rate=0.0101; feature_fraction=0.413; num_leaves=1297; min_data_in_leaf=227 : y = 0.929 : 263.1 secs : infill_ei\n",
      "\n",
      "Saved the current state after iteration 93 in the file bayesiana.RDATA.\n",
      "\n",
      "Mon Jul 28 20:27:52 2025 AUC 0.929676588217956\n",
      "\n",
      "[mbo] 93: num_iterations=1685; learning_rate=0.011; feature_fraction=0.393; num_leaves=1406; min_data_in_leaf=232 : y = 0.93 : 266.7 secs : infill_ei\n",
      "\n",
      "Mon Jul 28 20:29:14 2025 AUC 0.930102777245902\n",
      "\n",
      "[mbo] 94: num_iterations=1092; learning_rate=0.0101; feature_fraction=0.35; num_leaves=1633; min_data_in_leaf=927 : y = 0.93 : 81.0 secs : infill_ei\n",
      "\n",
      "Mon Jul 28 20:31:44 2025 AUC 0.930406125383543\n",
      "\n",
      "[mbo] 95: num_iterations=1841; learning_rate=0.0187; feature_fraction=0.402; num_leaves=812; min_data_in_leaf=773 : y = 0.93 : 148.9 secs : infill_ei\n",
      "\n",
      "Mon Jul 28 20:34:23 2025 AUC 0.930131198243895\n",
      "\n",
      "[mbo] 96: num_iterations=1971; learning_rate=0.0285; feature_fraction=0.394; num_leaves=1755; min_data_in_leaf=867 : y = 0.93 : 158.0 secs : infill_ei\n",
      "\n",
      "Saved the current state after iteration 97 in the file bayesiana.RDATA.\n",
      "\n",
      "Mon Jul 28 20:36:22 2025 AUC 0.929467097894438\n",
      "\n",
      "[mbo] 97: num_iterations=1857; learning_rate=0.0107; feature_fraction=0.407; num_leaves=1505; min_data_in_leaf=1986 : y = 0.929 : 112.9 secs : infill_ei\n",
      "\n",
      "Mon Jul 28 20:39:40 2025 AUC 0.93008382088045\n",
      "\n",
      "[mbo] 98: num_iterations=2021; learning_rate=0.011; feature_fraction=0.406; num_leaves=1651; min_data_in_leaf=538 : y = 0.93 : 197.6 secs : infill_ei\n",
      "\n",
      "Mon Jul 28 20:40:00 2025 AUC 0.924415163736317\n",
      "\n",
      "[mbo] 99: num_iterations=231; learning_rate=0.0114; feature_fraction=0.339; num_leaves=1401; min_data_in_leaf=821 : y = 0.924 : 18.4 secs : infill_ei\n",
      "\n",
      "Mon Jul 28 20:42:17 2025 AUC 0.930741474459136\n",
      "\n",
      "[mbo] 100: num_iterations=1704; learning_rate=0.0113; feature_fraction=0.411; num_leaves=893; min_data_in_leaf=799 : y = 0.931 : 136.2 secs : infill_ei\n",
      "\n",
      "Saved the final state in the file bayesiana.RDATA\n",
      "\n"
     ]
    }
   ],
   "source": [
    "# inicio la optimizacion bayesiana, retomando si ya existe\n",
    "# es la celda mas lenta de todo el notebook\n",
    "\n",
    "if (!file.exists(kbayesiana)) {\n",
    "  bayesiana_salida <- mbo(obj.fun, learner= surr.km, control= ctrl)\n",
    "} else {\n",
    "  bayesiana_salida <- mboContinue(kbayesiana) # retomo en caso que ya exista\n",
    "}"
   ]
  },
  {
   "cell_type": "code",
   "execution_count": 88,
   "metadata": {
    "id": "ssk5nnMk6INK"
   },
   "outputs": [
    {
     "data": {
      "text/html": [
       "<style>\n",
       ".list-inline {list-style: none; margin:0; padding: 0}\n",
       ".list-inline>li {display: inline-block}\n",
       ".list-inline>li:not(:last-child)::after {content: \"\\00b7\"; padding: 0 .5ex}\n",
       "</style>\n",
       "<ol class=list-inline><li>'num_iterations'</li><li>'learning_rate'</li><li>'feature_fraction'</li><li>'num_leaves'</li><li>'min_data_in_leaf'</li><li>'y'</li><li>'dob'</li><li>'eol'</li><li>'error.message'</li><li>'exec.time'</li><li>'ei'</li><li>'error.model'</li><li>'train.time'</li><li>'prop.type'</li><li>'propose.time'</li><li>'se'</li><li>'mean'</li></ol>\n"
      ],
      "text/latex": [
       "\\begin{enumerate*}\n",
       "\\item 'num\\_iterations'\n",
       "\\item 'learning\\_rate'\n",
       "\\item 'feature\\_fraction'\n",
       "\\item 'num\\_leaves'\n",
       "\\item 'min\\_data\\_in\\_leaf'\n",
       "\\item 'y'\n",
       "\\item 'dob'\n",
       "\\item 'eol'\n",
       "\\item 'error.message'\n",
       "\\item 'exec.time'\n",
       "\\item 'ei'\n",
       "\\item 'error.model'\n",
       "\\item 'train.time'\n",
       "\\item 'prop.type'\n",
       "\\item 'propose.time'\n",
       "\\item 'se'\n",
       "\\item 'mean'\n",
       "\\end{enumerate*}\n"
      ],
      "text/markdown": [
       "1. 'num_iterations'\n",
       "2. 'learning_rate'\n",
       "3. 'feature_fraction'\n",
       "4. 'num_leaves'\n",
       "5. 'min_data_in_leaf'\n",
       "6. 'y'\n",
       "7. 'dob'\n",
       "8. 'eol'\n",
       "9. 'error.message'\n",
       "10. 'exec.time'\n",
       "11. 'ei'\n",
       "12. 'error.model'\n",
       "13. 'train.time'\n",
       "14. 'prop.type'\n",
       "15. 'propose.time'\n",
       "16. 'se'\n",
       "17. 'mean'\n",
       "\n",
       "\n"
      ],
      "text/plain": [
       " [1] \"num_iterations\"   \"learning_rate\"    \"feature_fraction\" \"num_leaves\"      \n",
       " [5] \"min_data_in_leaf\" \"y\"                \"dob\"              \"eol\"             \n",
       " [9] \"error.message\"    \"exec.time\"        \"ei\"               \"error.model\"     \n",
       "[13] \"train.time\"       \"prop.type\"        \"propose.time\"     \"se\"              \n",
       "[17] \"mean\"            "
      ]
     },
     "metadata": {},
     "output_type": "display_data"
    }
   ],
   "source": [
    "\n",
    "tb_bayesiana <- as.data.table(bayesiana_salida$opt.path)\n",
    "colnames( tb_bayesiana)"
   ]
  },
  {
   "cell_type": "code",
   "execution_count": 89,
   "metadata": {
    "id": "u4zq-vknhjGc"
   },
   "outputs": [],
   "source": [
    "# almaceno los resultados de la Bayesian Optimization\n",
    "# y capturo los mejores hiperparametros encontrados\n",
    "\n",
    "tb_bayesiana <- as.data.table(bayesiana_salida$opt.path)\n",
    "\n",
    "tb_bayesiana[, iter := .I]\n",
    "\n",
    "# ordeno en forma descendente por AUC = y\n",
    "setorder(tb_bayesiana, -y)\n",
    "\n",
    "# grabo para eventualmente poder utilizarlos en OTRA corrida\n",
    "fwrite( tb_bayesiana,\n",
    "  file= \"BO_log.txt\",\n",
    "  sep= \"\\t\"\n",
    ")\n",
    "\n",
    "# los mejores hiperparámetros son los que quedaron en el registro 1 de la tabla\n",
    "PARAM$out$lgbm$mejores_hiperparametros <- tb_bayesiana[\n",
    "  1, # el primero es el de mejor AUC\n",
    "  setdiff(colnames(tb_bayesiana),\n",
    "    c(\"y\",\"dob\",\"eol\",\"error.message\",\"exec.time\",\"ei\",\"error.model\",\n",
    "      \"train.time\",\"prop.type\",\"propose.time\",\"se\",\"mean\",\"iter\")),\n",
    "  with= FALSE\n",
    "]\n",
    "\n",
    "\n",
    "PARAM$out$lgbm$y <- tb_bayesiana[1, y]\n"
   ]
  },
  {
   "cell_type": "code",
   "execution_count": 90,
   "metadata": {
    "id": "E8v2eA427N8e"
   },
   "outputs": [],
   "source": [
    "write_yaml( PARAM, file=\"PARAM.yml\")"
   ]
  },
  {
   "cell_type": "code",
   "execution_count": 91,
   "metadata": {
    "id": "iBTWexVU7PGC"
   },
   "outputs": [
    {
     "name": "stdout",
     "output_type": "stream",
     "text": [
      "   num_iterations learning_rate feature_fraction num_leaves min_data_in_leaf\n",
      "            <int>         <num>            <num>      <int>            <int>\n",
      "1:           1187    0.01007759        0.3521205       1363              907\n",
      "[1] 0.9313471\n"
     ]
    }
   ],
   "source": [
    "print(PARAM$out$lgbm$mejores_hiperparametros)\n",
    "print(PARAM$out$lgbm$y)"
   ]
  },
  {
   "cell_type": "markdown",
   "metadata": {
    "id": "TKsVZmAnhwX-"
   },
   "source": [
    "## 2.3  Produccion"
   ]
  },
  {
   "cell_type": "markdown",
   "metadata": {
    "id": "RQ_C33Tr5B_9"
   },
   "source": [
    "### Final Training\n",
    "Construyo el modelo final, que es uno solo, no hace ningun tipo de particion < training, validation, testing>]"
   ]
  },
  {
   "cell_type": "code",
   "execution_count": 92,
   "metadata": {
    "id": "eDqfyA14hzwv"
   },
   "outputs": [],
   "source": [
    "setwd(\"/content/buckets/b1/exp\")\n",
    "experimento <- paste0(\"exp\", PARAM$experimento)\n",
    "dir.create(experimento, showWarnings= FALSE)\n",
    "setwd( paste0(\"/content/buckets/b1/exp/\", experimento ))"
   ]
  },
  {
   "cell_type": "markdown",
   "metadata": {
    "id": "8qFmFivf5Iet"
   },
   "source": [
    "#### Final Training Dataset\n",
    "\n",
    "Aqui esta la gran decision de en qué meses hago el Final Training\n",
    "<br> debo utilizar los mejores hiperparámetros que encontré en la optimización bayesiana"
   ]
  },
  {
   "cell_type": "code",
   "execution_count": 93,
   "metadata": {
    "id": "lg5WVZncvc7H"
   },
   "outputs": [],
   "source": [
    "# clase01\n",
    "dataset[, clase01 := ifelse(clase_ternaria %in% c(\"BAJA+1\", \"BAJA+2\"), 1L, 0L)]"
   ]
  },
  {
   "cell_type": "code",
   "execution_count": 94,
   "metadata": {
    "id": "yc9QzXREv0xf"
   },
   "outputs": [],
   "source": [
    "dataset_train <- dataset[foto_mes %in% c(202107)]"
   ]
  },
  {
   "cell_type": "code",
   "execution_count": 95,
   "metadata": {
    "id": "thjdqEBLuvNt"
   },
   "outputs": [],
   "source": [
    "# dejo los datos en el formato que necesita LightGBM\n",
    "\n",
    "dtrain <- lgb.Dataset(\n",
    "  data= data.matrix(dataset_train[, campos_buenos, with= FALSE]),\n",
    "  label= dataset_train[, clase01]\n",
    ")"
   ]
  },
  {
   "cell_type": "markdown",
   "metadata": {
    "id": "VNUa-WSz5Oqu"
   },
   "source": [
    "#### Final Training Hyperparameters"
   ]
  },
  {
   "cell_type": "code",
   "execution_count": 96,
   "metadata": {},
   "outputs": [
    {
     "data": {
      "text/html": [
       "<dl>\n",
       "\t<dt>$boosting</dt>\n",
       "\t\t<dd>'gbdt'</dd>\n",
       "\t<dt>$objective</dt>\n",
       "\t\t<dd>'binary'</dd>\n",
       "\t<dt>$metric</dt>\n",
       "\t\t<dd>'auc'</dd>\n",
       "\t<dt>$first_metric_only</dt>\n",
       "\t\t<dd>FALSE</dd>\n",
       "\t<dt>$boost_from_average</dt>\n",
       "\t\t<dd>TRUE</dd>\n",
       "\t<dt>$feature_pre_filter</dt>\n",
       "\t\t<dd>FALSE</dd>\n",
       "\t<dt>$force_row_wise</dt>\n",
       "\t\t<dd>TRUE</dd>\n",
       "\t<dt>$verbosity</dt>\n",
       "\t\t<dd>-100</dd>\n",
       "\t<dt>$seed</dt>\n",
       "\t\t<dd>450001</dd>\n",
       "\t<dt>$max_depth</dt>\n",
       "\t\t<dd>-1</dd>\n",
       "\t<dt>$min_gain_to_split</dt>\n",
       "\t\t<dd>0</dd>\n",
       "\t<dt>$min_sum_hessian_in_leaf</dt>\n",
       "\t\t<dd>0.001</dd>\n",
       "\t<dt>$lambda_l1</dt>\n",
       "\t\t<dd>0</dd>\n",
       "\t<dt>$lambda_l2</dt>\n",
       "\t\t<dd>0</dd>\n",
       "\t<dt>$max_bin</dt>\n",
       "\t\t<dd>31</dd>\n",
       "\t<dt>$bagging_fraction</dt>\n",
       "\t\t<dd>1</dd>\n",
       "\t<dt>$pos_bagging_fraction</dt>\n",
       "\t\t<dd>1</dd>\n",
       "\t<dt>$neg_bagging_fraction</dt>\n",
       "\t\t<dd>1</dd>\n",
       "\t<dt>$is_unbalance</dt>\n",
       "\t\t<dd>FALSE</dd>\n",
       "\t<dt>$scale_pos_weight</dt>\n",
       "\t\t<dd>1</dd>\n",
       "\t<dt>$drop_rate</dt>\n",
       "\t\t<dd>0.1</dd>\n",
       "\t<dt>$max_drop</dt>\n",
       "\t\t<dd>50</dd>\n",
       "\t<dt>$skip_drop</dt>\n",
       "\t\t<dd>0.5</dd>\n",
       "\t<dt>$extra_trees</dt>\n",
       "\t\t<dd>FALSE</dd>\n",
       "\t<dt>$num_iterations</dt>\n",
       "\t\t<dd>1187</dd>\n",
       "\t<dt>$learning_rate</dt>\n",
       "\t\t<dd>0.0100775873467515</dd>\n",
       "\t<dt>$feature_fraction</dt>\n",
       "\t\t<dd>0.352120475406374</dd>\n",
       "\t<dt>$num_leaves</dt>\n",
       "\t\t<dd>1363</dd>\n",
       "\t<dt>$min_data_in_leaf</dt>\n",
       "\t\t<dd>907</dd>\n",
       "</dl>\n"
      ],
      "text/latex": [
       "\\begin{description}\n",
       "\\item[\\$boosting] 'gbdt'\n",
       "\\item[\\$objective] 'binary'\n",
       "\\item[\\$metric] 'auc'\n",
       "\\item[\\$first\\_metric\\_only] FALSE\n",
       "\\item[\\$boost\\_from\\_average] TRUE\n",
       "\\item[\\$feature\\_pre\\_filter] FALSE\n",
       "\\item[\\$force\\_row\\_wise] TRUE\n",
       "\\item[\\$verbosity] -100\n",
       "\\item[\\$seed] 450001\n",
       "\\item[\\$max\\_depth] -1\n",
       "\\item[\\$min\\_gain\\_to\\_split] 0\n",
       "\\item[\\$min\\_sum\\_hessian\\_in\\_leaf] 0.001\n",
       "\\item[\\$lambda\\_l1] 0\n",
       "\\item[\\$lambda\\_l2] 0\n",
       "\\item[\\$max\\_bin] 31\n",
       "\\item[\\$bagging\\_fraction] 1\n",
       "\\item[\\$pos\\_bagging\\_fraction] 1\n",
       "\\item[\\$neg\\_bagging\\_fraction] 1\n",
       "\\item[\\$is\\_unbalance] FALSE\n",
       "\\item[\\$scale\\_pos\\_weight] 1\n",
       "\\item[\\$drop\\_rate] 0.1\n",
       "\\item[\\$max\\_drop] 50\n",
       "\\item[\\$skip\\_drop] 0.5\n",
       "\\item[\\$extra\\_trees] FALSE\n",
       "\\item[\\$num\\_iterations] 1187\n",
       "\\item[\\$learning\\_rate] 0.0100775873467515\n",
       "\\item[\\$feature\\_fraction] 0.352120475406374\n",
       "\\item[\\$num\\_leaves] 1363\n",
       "\\item[\\$min\\_data\\_in\\_leaf] 907\n",
       "\\end{description}\n"
      ],
      "text/markdown": [
       "$boosting\n",
       ":   'gbdt'\n",
       "$objective\n",
       ":   'binary'\n",
       "$metric\n",
       ":   'auc'\n",
       "$first_metric_only\n",
       ":   FALSE\n",
       "$boost_from_average\n",
       ":   TRUE\n",
       "$feature_pre_filter\n",
       ":   FALSE\n",
       "$force_row_wise\n",
       ":   TRUE\n",
       "$verbosity\n",
       ":   -100\n",
       "$seed\n",
       ":   450001\n",
       "$max_depth\n",
       ":   -1\n",
       "$min_gain_to_split\n",
       ":   0\n",
       "$min_sum_hessian_in_leaf\n",
       ":   0.001\n",
       "$lambda_l1\n",
       ":   0\n",
       "$lambda_l2\n",
       ":   0\n",
       "$max_bin\n",
       ":   31\n",
       "$bagging_fraction\n",
       ":   1\n",
       "$pos_bagging_fraction\n",
       ":   1\n",
       "$neg_bagging_fraction\n",
       ":   1\n",
       "$is_unbalance\n",
       ":   FALSE\n",
       "$scale_pos_weight\n",
       ":   1\n",
       "$drop_rate\n",
       ":   0.1\n",
       "$max_drop\n",
       ":   50\n",
       "$skip_drop\n",
       ":   0.5\n",
       "$extra_trees\n",
       ":   FALSE\n",
       "$num_iterations\n",
       ":   1187\n",
       "$learning_rate\n",
       ":   0.0100775873467515\n",
       "$feature_fraction\n",
       ":   0.352120475406374\n",
       "$num_leaves\n",
       ":   1363\n",
       "$min_data_in_leaf\n",
       ":   907\n",
       "\n",
       "\n"
      ],
      "text/plain": [
       "$boosting\n",
       "[1] \"gbdt\"\n",
       "\n",
       "$objective\n",
       "[1] \"binary\"\n",
       "\n",
       "$metric\n",
       "[1] \"auc\"\n",
       "\n",
       "$first_metric_only\n",
       "[1] FALSE\n",
       "\n",
       "$boost_from_average\n",
       "[1] TRUE\n",
       "\n",
       "$feature_pre_filter\n",
       "[1] FALSE\n",
       "\n",
       "$force_row_wise\n",
       "[1] TRUE\n",
       "\n",
       "$verbosity\n",
       "[1] -100\n",
       "\n",
       "$seed\n",
       "[1] 450001\n",
       "\n",
       "$max_depth\n",
       "[1] -1\n",
       "\n",
       "$min_gain_to_split\n",
       "[1] 0\n",
       "\n",
       "$min_sum_hessian_in_leaf\n",
       "[1] 0.001\n",
       "\n",
       "$lambda_l1\n",
       "[1] 0\n",
       "\n",
       "$lambda_l2\n",
       "[1] 0\n",
       "\n",
       "$max_bin\n",
       "[1] 31\n",
       "\n",
       "$bagging_fraction\n",
       "[1] 1\n",
       "\n",
       "$pos_bagging_fraction\n",
       "[1] 1\n",
       "\n",
       "$neg_bagging_fraction\n",
       "[1] 1\n",
       "\n",
       "$is_unbalance\n",
       "[1] FALSE\n",
       "\n",
       "$scale_pos_weight\n",
       "[1] 1\n",
       "\n",
       "$drop_rate\n",
       "[1] 0.1\n",
       "\n",
       "$max_drop\n",
       "[1] 50\n",
       "\n",
       "$skip_drop\n",
       "[1] 0.5\n",
       "\n",
       "$extra_trees\n",
       "[1] FALSE\n",
       "\n",
       "$num_iterations\n",
       "[1] 1187\n",
       "\n",
       "$learning_rate\n",
       "[1] 0.01007759\n",
       "\n",
       "$feature_fraction\n",
       "[1] 0.3521205\n",
       "\n",
       "$num_leaves\n",
       "[1] 1363\n",
       "\n",
       "$min_data_in_leaf\n",
       "[1] 907\n"
      ]
     },
     "metadata": {},
     "output_type": "display_data"
    }
   ],
   "source": [
    "param_final <- modifyList(PARAM$lgbm$param_fijos,\n",
    "  PARAM$out$lgbm$mejores_hiperparametros)\n",
    "\n",
    "param_final"
   ]
  },
  {
   "cell_type": "markdown",
   "metadata": {
    "id": "TZIYn4l95TBH"
   },
   "source": [
    "#### Training\n",
    "Genero el modelo final, siempre sobre TODOS los datos de  final_train, sin hacer ningun tipo de undersampling de la clase mayoritaria"
   ]
  },
  {
   "cell_type": "code",
   "execution_count": 97,
   "metadata": {
    "id": "vPLsd4mMRe4u"
   },
   "outputs": [],
   "source": [
    "# este punto es muy SUTIL  y será revisado en la Clase 05\n",
    "\n",
    "param_normalizado <- copy(param_final)\n",
    "param_normalizado$min_data_in_leaf <-  param_final$min_data_in_leaf / PARAM$trainingstrategy$undersampling"
   ]
  },
  {
   "cell_type": "code",
   "execution_count": 98,
   "metadata": {
    "id": "WRI_-taRwOXO"
   },
   "outputs": [],
   "source": [
    "  # entreno LightGBM\n",
    "\n",
    "  modelo_final <- lgb.train(\n",
    "    data= dtrain,\n",
    "    param= param_normalizado\n",
    "  )"
   ]
  },
  {
   "cell_type": "code",
   "execution_count": 99,
   "metadata": {
    "editable": true,
    "id": "_bkhnCvj0g3Q",
    "slideshow": {
     "slide_type": ""
    },
    "tags": []
   },
   "outputs": [],
   "source": [
    "# ahora imprimo la importancia de variables\n",
    "\n",
    "tb_importancia <- as.data.table(lgb.importance(modelo_final))\n",
    "archivo_importancia <- \"impo.txt\"\n",
    "\n",
    "fwrite(tb_importancia,\n",
    "  file= archivo_importancia,\n",
    "  sep= \"\\t\"\n",
    ")"
   ]
  },
  {
   "cell_type": "code",
   "execution_count": 100,
   "metadata": {
    "id": "lZ3sLmbh0kFj"
   },
   "outputs": [],
   "source": [
    "# grabo a disco el modelo en un formato para seres humanos ... ponele ...\n",
    "\n",
    "lgb.save(modelo_final, \"modelo.txt\" )"
   ]
  },
  {
   "cell_type": "markdown",
   "metadata": {
    "id": "VEtp2--t5Ymg"
   },
   "source": [
    "### Scoring"
   ]
  },
  {
   "cell_type": "markdown",
   "metadata": {
    "id": "hI5008Mj5ZdI"
   },
   "source": [
    "Aplico el modelo final a los datos del futuro"
   ]
  },
  {
   "cell_type": "code",
   "execution_count": 101,
   "metadata": {
    "id": "PimBY3N_0ryP"
   },
   "outputs": [],
   "source": [
    "# aplico el modelo a los datos sin clase\n",
    "dfuture <- dataset[foto_mes == 202109]\n",
    "\n",
    "# aplico el modelo a los datos nuevos\n",
    "prediccion <- predict(\n",
    "  modelo_final,\n",
    "  data.matrix(dfuture[, campos_buenos, with= FALSE])\n",
    ")"
   ]
  },
  {
   "cell_type": "markdown",
   "metadata": {
    "id": "D26rNRh55gpw"
   },
   "source": [
    "#### Tabla Prediccion"
   ]
  },
  {
   "cell_type": "code",
   "execution_count": 102,
   "metadata": {
    "id": "RJwg7LHd11yu"
   },
   "outputs": [],
   "source": [
    "# tabla de prediccion\n",
    "\n",
    "tb_prediccion <- dfuture[, list(numero_de_cliente)]\n",
    "tb_prediccion[, prob := prediccion ]\n",
    "\n",
    "# grabo las probabilidad del modelo\n",
    "fwrite(tb_prediccion,\n",
    "  file= \"prediccion.txt\",\n",
    "  sep= \"\\t\"\n",
    ")"
   ]
  },
  {
   "cell_type": "markdown",
   "metadata": {
    "id": "jOt4eG_55ltv"
   },
   "source": [
    "Kaggle Competition Submit"
   ]
  },
  {
   "cell_type": "code",
   "execution_count": 103,
   "metadata": {
    "id": "gWW3tatE12je"
   },
   "outputs": [
    {
     "name": "stdout",
     "output_type": "stream",
     "text": [
      "Successfully submitted to Data Mining, Analista Sr 2025A \n",
      "Successfully submitted to Data Mining, Analista Sr 2025A \n",
      "Successfully submitted to Data Mining, Analista Sr 2025A \n",
      "Successfully submitted to Data Mining, Analista Sr 2025A \n",
      "Successfully submitted to Data Mining, Analista Sr 2025A \n"
     ]
    }
   ],
   "source": [
    "# genero archivos con los  \"envios\" mejores\n",
    "# suba TODOS los archivos a Kaggle\n",
    "\n",
    "# ordeno por probabilidad descendente\n",
    "setorder(tb_prediccion, -prob)\n",
    "\n",
    "dir.create(\"kaggle\")\n",
    "\n",
    "for (envios in PARAM$kaggle$cortes) {\n",
    "\n",
    "  tb_prediccion[, Predicted := 0L] # seteo inicial a 0\n",
    "  tb_prediccion[1:envios, Predicted := 1L] # marclo los primeros\n",
    "\n",
    "  archivo_kaggle <- paste0(\"./kaggle/KA\", PARAM$experimento, \"_\", envios, \".csv\")\n",
    "\n",
    "  # grabo el archivo\n",
    "  fwrite(tb_prediccion[, list(numero_de_cliente, Predicted)],\n",
    "    file= archivo_kaggle,\n",
    "    sep= \",\"\n",
    "  )\n",
    "\n",
    "  # subida a Kaggle, armo la linea de comando\n",
    "  comando <- \"kaggle competitions submit\"\n",
    "  competencia <- paste(\"-c\", PARAM$kaggle$competencia)\n",
    "  arch <- paste( \"-f\", archivo_kaggle)\n",
    "\n",
    "  mensaje <- paste0(\"-m 'envios=\", envios,\n",
    "  \"  semilla=\", PARAM$semilla_primigenia,\n",
    "    \"'\" )\n",
    "\n",
    "  linea <- paste( comando, competencia, arch, mensaje)\n",
    "\n",
    "  salida <- system(linea, intern=TRUE) # el submit a Kaggle\n",
    "  cat(salida, \"\\n\")\n",
    "}"
   ]
  },
  {
   "cell_type": "code",
   "execution_count": 104,
   "metadata": {
    "id": "B9tB2X4439Hg"
   },
   "outputs": [],
   "source": [
    "write_yaml( PARAM, file=\"PARAM.yml\")"
   ]
  },
  {
   "cell_type": "code",
   "execution_count": 105,
   "metadata": {
    "id": "9zA_W25c15DP"
   },
   "outputs": [
    {
     "data": {
      "text/html": [
       "'Mon Jul 28 20:45:44 2025'"
      ],
      "text/latex": [
       "'Mon Jul 28 20:45:44 2025'"
      ],
      "text/markdown": [
       "'Mon Jul 28 20:45:44 2025'"
      ],
      "text/plain": [
       "[1] \"Mon Jul 28 20:45:44 2025\""
      ]
     },
     "metadata": {},
     "output_type": "display_data"
    }
   ],
   "source": [
    "format(Sys.time(), \"%a %b %d %X %Y\")"
   ]
  },
  {
   "cell_type": "markdown",
   "metadata": {
    "id": "UdVZucdLHzZ0"
   },
   "source": [
    "##### Finalmente usted deberá cargar el resultado de su corrida en la Google Sheet Colaborativa,  hoja **TareaHogar04**\n",
    "<br> Siéntase libre de agregar las columnas que hagan falta a la planilla"
   ]
  },
  {
   "cell_type": "code",
   "execution_count": null,
   "metadata": {
    "id": "WMHh7uNVIJkT"
   },
   "outputs": [],
   "source": []
  }
 ],
 "metadata": {
  "colab": {
   "provenance": []
  },
  "kernelspec": {
   "display_name": "R",
   "language": "R",
   "name": "ir"
  },
  "language_info": {
   "codemirror_mode": "r",
   "file_extension": ".r",
   "mimetype": "text/x-r-source",
   "name": "R",
   "pygments_lexer": "r",
   "version": "4.4.3"
  }
 },
 "nbformat": 4,
 "nbformat_minor": 4
}
