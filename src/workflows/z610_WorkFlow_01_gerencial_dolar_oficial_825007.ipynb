{
 "cells": [
  {
   "cell_type": "markdown",
   "id": "859d38e7-11c0-48bc-978a-d0e907f19ed1",
   "metadata": {
    "id": "859d38e7-11c0-48bc-978a-d0e907f19ed1"
   },
   "source": [
    "# 6 WorkFlow"
   ]
  },
  {
   "cell_type": "markdown",
   "id": "29c586e3-ed7d-44b2-92a0-f19669f06940",
   "metadata": {
    "id": "29c586e3-ed7d-44b2-92a0-f19669f06940"
   },
   "source": [
    "### 6.1 Objetivo"
   ]
  },
  {
   "cell_type": "markdown",
   "id": "6fff8327-10ed-4b11-bbee-f1c3f357d123",
   "metadata": {
    "id": "6fff8327-10ed-4b11-bbee-f1c3f357d123"
   },
   "source": [
    "Presentar un workflow/pipeline completo al que los estudiantes deberán enriquecer"
   ]
  },
  {
   "cell_type": "markdown",
   "id": "PX0qg_c0yqob",
   "metadata": {
    "id": "PX0qg_c0yqob"
   },
   "source": [
    "#### 6.2  Seteo del ambiente en Google Colab"
   ]
  },
  {
   "cell_type": "markdown",
   "id": "NGY7H9xza7Zr",
   "metadata": {
    "id": "NGY7H9xza7Zr",
    "jupyter": {
     "source_hidden": true
    }
   },
   "source": [
    "Esta parte se debe correr con el runtime en Python3\n",
    "<br>Ir al menu, Runtime -> Change Runtime Type -> Runtime type ->  **Python 3**"
   ]
  },
  {
   "cell_type": "markdown",
   "id": "7PupIBNba7Zr",
   "metadata": {
    "id": "7PupIBNba7Zr"
   },
   "source": [
    "Conectar la virtual machine donde esta corriendo Google Colab con el  Google Drive, para poder tener persistencia de archivos"
   ]
  },
  {
   "cell_type": "markdown",
   "id": "JYC_F-wla7Zs",
   "metadata": {
    "id": "JYC_F-wla7Zs"
   },
   "source": [
    "Para correr la siguiente celda es fundamental en Arranque en Frio haber copiado el archivo kaggle.json al Google Drive, en la carpeta indicada en el instructivo\n",
    "\n",
    "<br>los siguientes comando estan en shell script de Linux\n",
    "*   Crear las carpetas en el Google Drive\n",
    "*   \"instalar\" el archivo kaggle.json desde el Google Drive a la virtual machine para que pueda ser utilizado por la libreria  kaggle de Python\n",
    "*   Bajar el  **dataset_pequeno**  al  Google Drive  y tambien al disco local de la virtual machine que esta corriendo Google Colab\n",
    "*   Bajar el **dataset_historico** al Google Drive y tambien al disco local de la virtual machine que esta corriendo Google Colab\n",
    "\n"
   ]
  },
  {
   "cell_type": "markdown",
   "id": "oSKhZRToy2F7",
   "metadata": {
    "id": "oSKhZRToy2F7"
   },
   "source": [
    "## 6.3  Workflow"
   ]
  },
  {
   "cell_type": "markdown",
   "id": "85171302-a2d6-48cb-b9b2-8d839a276859",
   "metadata": {
    "id": "85171302-a2d6-48cb-b9b2-8d839a276859"
   },
   "source": [
    "## Inicializacion"
   ]
  },
  {
   "cell_type": "markdown",
   "id": "eSU5vi00CPRS",
   "metadata": {
    "id": "eSU5vi00CPRS"
   },
   "source": [
    "Esta parte se debe correr con el runtime en lenguaje **R** Ir al menu, Runtime -> Change Runtime Type -> Runtime type -> R"
   ]
  },
  {
   "cell_type": "markdown",
   "id": "Zq8dySimCPRT",
   "metadata": {
    "id": "Zq8dySimCPRT"
   },
   "source": [
    "limpio el ambiente de R"
   ]
  },
  {
   "cell_type": "code",
   "execution_count": 1,
   "id": "EL8wdHaUs59K",
   "metadata": {
    "id": "EL8wdHaUs59K"
   },
   "outputs": [
    {
     "data": {
      "text/html": [
       "'Sun Aug 17 16:58:27 2025'"
      ],
      "text/latex": [
       "'Sun Aug 17 16:58:27 2025'"
      ],
      "text/markdown": [
       "'Sun Aug 17 16:58:27 2025'"
      ],
      "text/plain": [
       "[1] \"Sun Aug 17 16:58:27 2025\""
      ]
     },
     "metadata": {},
     "output_type": "display_data"
    }
   ],
   "source": [
    "format(Sys.time(), \"%a %b %d %X %Y\")"
   ]
  },
  {
   "cell_type": "code",
   "execution_count": 2,
   "id": "1iE0U4_WCPRT",
   "metadata": {
    "id": "1iE0U4_WCPRT"
   },
   "outputs": [
    {
     "data": {
      "text/html": [
       "<table class=\"dataframe\">\n",
       "<caption>A matrix: 2 × 6 of type dbl</caption>\n",
       "<thead>\n",
       "\t<tr><th></th><th scope=col>used</th><th scope=col>(Mb)</th><th scope=col>gc trigger</th><th scope=col>(Mb)</th><th scope=col>max used</th><th scope=col>(Mb)</th></tr>\n",
       "</thead>\n",
       "<tbody>\n",
       "\t<tr><th scope=row>Ncells</th><td> 656928</td><td>35.1</td><td>1439374</td><td>76.9</td><td>1431347</td><td>76.5</td></tr>\n",
       "\t<tr><th scope=row>Vcells</th><td>1224831</td><td> 9.4</td><td>8388608</td><td>64.0</td><td>1924958</td><td>14.7</td></tr>\n",
       "</tbody>\n",
       "</table>\n"
      ],
      "text/latex": [
       "A matrix: 2 × 6 of type dbl\n",
       "\\begin{tabular}{r|llllll}\n",
       "  & used & (Mb) & gc trigger & (Mb) & max used & (Mb)\\\\\n",
       "\\hline\n",
       "\tNcells &  656928 & 35.1 & 1439374 & 76.9 & 1431347 & 76.5\\\\\n",
       "\tVcells & 1224831 &  9.4 & 8388608 & 64.0 & 1924958 & 14.7\\\\\n",
       "\\end{tabular}\n"
      ],
      "text/markdown": [
       "\n",
       "A matrix: 2 × 6 of type dbl\n",
       "\n",
       "| <!--/--> | used | (Mb) | gc trigger | (Mb) | max used | (Mb) |\n",
       "|---|---|---|---|---|---|---|\n",
       "| Ncells |  656928 | 35.1 | 1439374 | 76.9 | 1431347 | 76.5 |\n",
       "| Vcells | 1224831 |  9.4 | 8388608 | 64.0 | 1924958 | 14.7 |\n",
       "\n"
      ],
      "text/plain": [
       "       used    (Mb) gc trigger (Mb) max used (Mb)\n",
       "Ncells  656928 35.1 1439374    76.9 1431347  76.5\n",
       "Vcells 1224831  9.4 8388608    64.0 1924958  14.7"
      ]
     },
     "metadata": {},
     "output_type": "display_data"
    }
   ],
   "source": [
    "# limpio la memoria\n",
    "rm(list=ls(all.names=TRUE)) # remove all objects\n",
    "gc(full=TRUE, verbose=FALSE) # garbage collection"
   ]
  },
  {
   "cell_type": "code",
   "execution_count": 3,
   "id": "atmIUEUNUrK5",
   "metadata": {
    "id": "atmIUEUNUrK5"
   },
   "outputs": [
    {
     "name": "stderr",
     "output_type": "stream",
     "text": [
      "Loading required package: data.table\n",
      "\n",
      "Loading required package: R.utils\n",
      "\n",
      "Loading required package: R.oo\n",
      "\n",
      "Loading required package: R.methodsS3\n",
      "\n",
      "R.methodsS3 v1.8.2 (2022-06-13 22:00:14 UTC) successfully loaded. See ?R.methodsS3 for help.\n",
      "\n",
      "R.oo v1.27.1 (2025-05-02 21:00:05 UTC) successfully loaded. See ?R.oo for help.\n",
      "\n",
      "\n",
      "Attaching package: ‘R.oo’\n",
      "\n",
      "\n",
      "The following object is masked from ‘package:R.methodsS3’:\n",
      "\n",
      "    throw\n",
      "\n",
      "\n",
      "The following objects are masked from ‘package:methods’:\n",
      "\n",
      "    getClasses, getMethods\n",
      "\n",
      "\n",
      "The following objects are masked from ‘package:base’:\n",
      "\n",
      "    attach, detach, load, save\n",
      "\n",
      "\n",
      "R.utils v2.13.0 (2025-02-24 21:20:02 UTC) successfully loaded. See ?R.utils for help.\n",
      "\n",
      "\n",
      "Attaching package: ‘R.utils’\n",
      "\n",
      "\n",
      "The following object is masked from ‘package:utils’:\n",
      "\n",
      "    timestamp\n",
      "\n",
      "\n",
      "The following objects are masked from ‘package:base’:\n",
      "\n",
      "    cat, commandArgs, getOption, isOpen, nullfile, parse, use, warnings\n",
      "\n",
      "\n"
     ]
    }
   ],
   "source": [
    "require(\"data.table\")\n",
    "\n",
    "if( !require(\"R.utils\")) install.packages(\"R.utils\")\n",
    "require(\"R.utils\")"
   ]
  },
  {
   "cell_type": "markdown",
   "id": "BsxZ_ONyj9L_",
   "metadata": {
    "id": "BsxZ_ONyj9L_"
   },
   "source": [
    "#### Parametros\n",
    "Si es gerente, no cambie nada\n",
    "<br>Si es Analista, cambie el nombre del dataset"
   ]
  },
  {
   "cell_type": "code",
   "execution_count": 4,
   "id": "peRH7ySLCPRV",
   "metadata": {
    "id": "peRH7ySLCPRV"
   },
   "outputs": [],
   "source": [
    "PARAM <- list()\n",
    "PARAM$semilla_primigenia <- 500057\n",
    "\n",
    "PARAM$experimento <- 6610\n",
    "PARAM$dataset <- \"gerencial_competencia_2025.csv.gz\""
   ]
  },
  {
   "cell_type": "markdown",
   "id": "NoJbKo_4NG8A",
   "metadata": {
    "id": "NoJbKo_4NG8A"
   },
   "source": [
    "#### Carpeta del Experimento"
   ]
  },
  {
   "cell_type": "code",
   "execution_count": 5,
   "id": "1gZD6ZMvCPRV",
   "metadata": {
    "id": "1gZD6ZMvCPRV"
   },
   "outputs": [],
   "source": [
    "# carpeta de trabajo\n",
    "\n",
    "setwd(\"/content/buckets/b1/exp\")\n",
    "experimento_folder <- paste0(\"WF\", PARAM$experimento)\n",
    "dir.create(experimento_folder, showWarnings=FALSE)\n",
    "setwd( paste0(\"/content/buckets/b1/exp/\", experimento_folder ))"
   ]
  },
  {
   "cell_type": "markdown",
   "id": "YVKBfLtkR8SO",
   "metadata": {
    "id": "YVKBfLtkR8SO"
   },
   "source": [
    "### 6.3.1   Preprocesamiento del dataset"
   ]
  },
  {
   "cell_type": "markdown",
   "id": "cr3K0RPVRjq6",
   "metadata": {
    "id": "cr3K0RPVRjq6"
   },
   "source": [
    "#### 6.3.1.1  DT incorporar dataset"
   ]
  },
  {
   "cell_type": "code",
   "execution_count": 6,
   "id": "Xi0emX2ECPRV",
   "metadata": {
    "id": "Xi0emX2ECPRV"
   },
   "outputs": [],
   "source": [
    "# lectura del dataset\n",
    "dataset <- fread(paste0(\"/content/datasets/\", PARAM$dataset))"
   ]
  },
  {
   "cell_type": "markdown",
   "id": "MWuPzK3nSLY3",
   "metadata": {
    "id": "MWuPzK3nSLY3"
   },
   "source": [
    "#### 6.3.1.2  CA  Catastrophe Analysis\n",
    "Se intentan reparar las variables que para un mes están con todos los valores en cero."
   ]
  },
  {
   "cell_type": "markdown",
   "id": "UAI16-yCVcBS",
   "metadata": {
    "id": "UAI16-yCVcBS"
   },
   "source": [
    "El método que se utiliza es **Machine Learning** se asigna NA also valores, si ha leido bien, es la \"anti imputación de valores faltantes\"\n",
    "<br> Usted podrá aplicar aquí otros métodos"
   ]
  },
  {
   "cell_type": "code",
   "execution_count": 7,
   "id": "sTmliO_FXv9E",
   "metadata": {
    "id": "sTmliO_FXv9E"
   },
   "outputs": [],
   "source": [
    "dataset[ foto_mes==202006, internet:=NA]\n",
    "dataset[ foto_mes==202006, mrentabilidad:=NA]\n",
    "dataset[ foto_mes==202006, mrentabilidad_annual:=NA]\n",
    "dataset[ foto_mes==202006, mcomisiones:=NA]\n",
    "dataset[ foto_mes==202006, mactivos_margen:=NA]\n",
    "dataset[ foto_mes==202006, mpasivos_margen:=NA]\n",
    "dataset[ foto_mes==202006, mcuentas_saldo:=NA]\n",
    "dataset[ foto_mes==202006, ctarjeta_visa_transacciones:=NA]\n",
    "dataset[ foto_mes==202006, mtarjeta_visa_consumo:=NA]\n",
    "dataset[ foto_mes==202006, mtarjeta_master_consumo:=NA]\n",
    "dataset[ foto_mes==202006, ccallcenter_transacciones:=NA]\n",
    "dataset[ foto_mes==202006, chomebanking_transacciones:=NA]\n",
    "dataset[ foto_mes==202006, chomebanking_transacciones:=NA]"
   ]
  },
  {
   "cell_type": "markdown",
   "id": "-4NiANYFSYHG",
   "metadata": {
    "id": "-4NiANYFSYHG"
   },
   "source": [
    "#### 6.3.1.3  DR  Data Drifting\n",
    "Se intenta corregir el data drifting, quizas ajustando por IPC ...\n",
    "<br>Esta parte podrá ser abordada por todos los Analistas y también la Gerenciapero se decide pedagogicamente no incluirla en esta primer version para reducir la carga cognitiva"
   ]
  },
  {
   "cell_type": "code",
   "execution_count": 8,
   "id": "4bc363bc-560c-4902-8aca-46dc748478c6",
   "metadata": {},
   "outputs": [
    {
     "data": {
      "text/html": [
       "<style>\n",
       ".list-inline {list-style: none; margin:0; padding: 0}\n",
       ".list-inline>li {display: inline-block}\n",
       ".list-inline>li:not(:last-child)::after {content: \"\\00b7\"; padding: 0 .5ex}\n",
       "</style>\n",
       "<ol class=list-inline><li>'mrentabilidad'</li><li>'mrentabilidad_annual'</li><li>'mcomisiones'</li><li>'mactivos_margen'</li><li>'mpasivos_margen'</li><li>'mcuenta_corriente'</li><li>'mcaja_ahorro'</li><li>'mcuentas_saldo'</li><li>'mtarjeta_visa_consumo'</li><li>'mtarjeta_master_consumo'</li><li>'mprestamos_personales'</li><li>'mpayroll'</li><li>'Master_mpagominimo'</li><li>'Visa_mpagominimo'</li></ol>\n"
      ],
      "text/latex": [
       "\\begin{enumerate*}\n",
       "\\item 'mrentabilidad'\n",
       "\\item 'mrentabilidad\\_annual'\n",
       "\\item 'mcomisiones'\n",
       "\\item 'mactivos\\_margen'\n",
       "\\item 'mpasivos\\_margen'\n",
       "\\item 'mcuenta\\_corriente'\n",
       "\\item 'mcaja\\_ahorro'\n",
       "\\item 'mcuentas\\_saldo'\n",
       "\\item 'mtarjeta\\_visa\\_consumo'\n",
       "\\item 'mtarjeta\\_master\\_consumo'\n",
       "\\item 'mprestamos\\_personales'\n",
       "\\item 'mpayroll'\n",
       "\\item 'Master\\_mpagominimo'\n",
       "\\item 'Visa\\_mpagominimo'\n",
       "\\end{enumerate*}\n"
      ],
      "text/markdown": [
       "1. 'mrentabilidad'\n",
       "2. 'mrentabilidad_annual'\n",
       "3. 'mcomisiones'\n",
       "4. 'mactivos_margen'\n",
       "5. 'mpasivos_margen'\n",
       "6. 'mcuenta_corriente'\n",
       "7. 'mcaja_ahorro'\n",
       "8. 'mcuentas_saldo'\n",
       "9. 'mtarjeta_visa_consumo'\n",
       "10. 'mtarjeta_master_consumo'\n",
       "11. 'mprestamos_personales'\n",
       "12. 'mpayroll'\n",
       "13. 'Master_mpagominimo'\n",
       "14. 'Visa_mpagominimo'\n",
       "\n",
       "\n"
      ],
      "text/plain": [
       " [1] \"mrentabilidad\"           \"mrentabilidad_annual\"   \n",
       " [3] \"mcomisiones\"             \"mactivos_margen\"        \n",
       " [5] \"mpasivos_margen\"         \"mcuenta_corriente\"      \n",
       " [7] \"mcaja_ahorro\"            \"mcuentas_saldo\"         \n",
       " [9] \"mtarjeta_visa_consumo\"   \"mtarjeta_master_consumo\"\n",
       "[11] \"mprestamos_personales\"   \"mpayroll\"               \n",
       "[13] \"Master_mpagominimo\"      \"Visa_mpagominimo\"       "
      ]
     },
     "metadata": {},
     "output_type": "display_data"
    }
   ],
   "source": [
    "# por como armé los nombres de campos,\n",
    "#  estos son los campos que expresan variables monetarias\n",
    "campos_monetarios <- colnames(dataset)\n",
    "campos_monetarios <- campos_monetarios[campos_monetarios %like%\n",
    "  \"^(m|Visa_m|Master_m|vm_m)\"]\n",
    "\n",
    "campos_monetarios"
   ]
  },
  {
   "cell_type": "code",
   "execution_count": 9,
   "id": "L85A2lwKSe3k",
   "metadata": {
    "id": "L85A2lwKSe3k"
   },
   "outputs": [],
   "source": [
    "# meses que me interesan para el ajuste de variables monetarias\n",
    "vfoto_mes <- c(\n",
    "   202005, 202006,\n",
    "  202007, 202008, 202009, 202010, 202011, 202012,\n",
    "  202101, 202102, 202103, 202104, 202105, 202106,\n",
    "  202107, 202108, 202109\n",
    ")"
   ]
  },
  {
   "cell_type": "code",
   "execution_count": 10,
   "id": "9691a3e4-35e6-4306-abaf-52c3a3d88814",
   "metadata": {},
   "outputs": [],
   "source": [
    "vdolar_oficial <- c(\n",
    "    70.047895,  72.520952,\n",
    "   75.324286,  77.488500,  79.430909,\n",
    "   83.134762,  85.484737,  88.181667,\n",
    "   91.474000,  93.997778,  96.635909,\n",
    "   98.526000,  99.613158, 100.619048,\n",
    "  101.619048, 102.569048, 103.781818\n",
    ")\n"
   ]
  },
  {
   "cell_type": "code",
   "execution_count": 11,
   "id": "479180c9-5fb6-46fd-af67-68bfefa1cb95",
   "metadata": {},
   "outputs": [
    {
     "data": {
      "text/html": [
       "<table class=\"dataframe\">\n",
       "<caption>A data.table: 17 × 2</caption>\n",
       "<thead>\n",
       "\t<tr><th scope=col>dolar_oficial</th><th scope=col>foto_mes</th></tr>\n",
       "\t<tr><th scope=col>&lt;dbl&gt;</th><th scope=col>&lt;dbl&gt;</th></tr>\n",
       "</thead>\n",
       "<tbody>\n",
       "\t<tr><td> 70.04789</td><td>202005</td></tr>\n",
       "\t<tr><td> 72.52095</td><td>202006</td></tr>\n",
       "\t<tr><td> 75.32429</td><td>202007</td></tr>\n",
       "\t<tr><td> 77.48850</td><td>202008</td></tr>\n",
       "\t<tr><td> 79.43091</td><td>202009</td></tr>\n",
       "\t<tr><td> 83.13476</td><td>202010</td></tr>\n",
       "\t<tr><td> 85.48474</td><td>202011</td></tr>\n",
       "\t<tr><td> 88.18167</td><td>202012</td></tr>\n",
       "\t<tr><td> 91.47400</td><td>202101</td></tr>\n",
       "\t<tr><td> 93.99778</td><td>202102</td></tr>\n",
       "\t<tr><td> 96.63591</td><td>202103</td></tr>\n",
       "\t<tr><td> 98.52600</td><td>202104</td></tr>\n",
       "\t<tr><td> 99.61316</td><td>202105</td></tr>\n",
       "\t<tr><td>100.61905</td><td>202106</td></tr>\n",
       "\t<tr><td>101.61905</td><td>202107</td></tr>\n",
       "\t<tr><td>102.56905</td><td>202108</td></tr>\n",
       "\t<tr><td>103.78182</td><td>202109</td></tr>\n",
       "</tbody>\n",
       "</table>\n"
      ],
      "text/latex": [
       "A data.table: 17 × 2\n",
       "\\begin{tabular}{ll}\n",
       " dolar\\_oficial & foto\\_mes\\\\\n",
       " <dbl> & <dbl>\\\\\n",
       "\\hline\n",
       "\t  70.04789 & 202005\\\\\n",
       "\t  72.52095 & 202006\\\\\n",
       "\t  75.32429 & 202007\\\\\n",
       "\t  77.48850 & 202008\\\\\n",
       "\t  79.43091 & 202009\\\\\n",
       "\t  83.13476 & 202010\\\\\n",
       "\t  85.48474 & 202011\\\\\n",
       "\t  88.18167 & 202012\\\\\n",
       "\t  91.47400 & 202101\\\\\n",
       "\t  93.99778 & 202102\\\\\n",
       "\t  96.63591 & 202103\\\\\n",
       "\t  98.52600 & 202104\\\\\n",
       "\t  99.61316 & 202105\\\\\n",
       "\t 100.61905 & 202106\\\\\n",
       "\t 101.61905 & 202107\\\\\n",
       "\t 102.56905 & 202108\\\\\n",
       "\t 103.78182 & 202109\\\\\n",
       "\\end{tabular}\n"
      ],
      "text/markdown": [
       "\n",
       "A data.table: 17 × 2\n",
       "\n",
       "| dolar_oficial &lt;dbl&gt; | foto_mes &lt;dbl&gt; |\n",
       "|---|---|\n",
       "|  70.04789 | 202005 |\n",
       "|  72.52095 | 202006 |\n",
       "|  75.32429 | 202007 |\n",
       "|  77.48850 | 202008 |\n",
       "|  79.43091 | 202009 |\n",
       "|  83.13476 | 202010 |\n",
       "|  85.48474 | 202011 |\n",
       "|  88.18167 | 202012 |\n",
       "|  91.47400 | 202101 |\n",
       "|  93.99778 | 202102 |\n",
       "|  96.63591 | 202103 |\n",
       "|  98.52600 | 202104 |\n",
       "|  99.61316 | 202105 |\n",
       "| 100.61905 | 202106 |\n",
       "| 101.61905 | 202107 |\n",
       "| 102.56905 | 202108 |\n",
       "| 103.78182 | 202109 |\n",
       "\n"
      ],
      "text/plain": [
       "   dolar_oficial foto_mes\n",
       "1   70.04789     202005  \n",
       "2   72.52095     202006  \n",
       "3   75.32429     202007  \n",
       "4   77.48850     202008  \n",
       "5   79.43091     202009  \n",
       "6   83.13476     202010  \n",
       "7   85.48474     202011  \n",
       "8   88.18167     202012  \n",
       "9   91.47400     202101  \n",
       "10  93.99778     202102  \n",
       "11  96.63591     202103  \n",
       "12  98.52600     202104  \n",
       "13  99.61316     202105  \n",
       "14 100.61905     202106  \n",
       "15 101.61905     202107  \n",
       "16 102.56905     202108  \n",
       "17 103.78182     202109  "
      ]
     },
     "metadata": {},
     "output_type": "display_data"
    }
   ],
   "source": [
    "tb_indices <- as.data.table( list(\n",
    "  \"dolar_oficial\" = vdolar_oficial\n",
    "  )\n",
    ")\n",
    "\n",
    "tb_indices[[ 'foto_mes' ]] <- vfoto_mes\n",
    "\n",
    "tb_indices"
   ]
  },
  {
   "cell_type": "code",
   "execution_count": 12,
   "id": "c74a1fd6-d4cf-4f00-9e8d-52bacfc0f4dc",
   "metadata": {},
   "outputs": [],
   "source": [
    "drift_dolar_oficial <- function(campos_monetarios) {\n",
    "  cat( \"inicio drift_dolar_oficial()\\n\")\n",
    "\n",
    "  dataset[tb_indices,\n",
    "    on = c(\"foto_mes\"),\n",
    "    (campos_monetarios) := .SD / i.dolar_oficial,\n",
    "    .SDcols = campos_monetarios\n",
    "  ]\n",
    "\n",
    "  cat( \"fin drift_dolar_oficial()\\n\")\n",
    "}"
   ]
  },
  {
   "cell_type": "code",
   "execution_count": 13,
   "id": "c5838d2f-4b5b-4a8e-a861-ec1cb78c6fa8",
   "metadata": {},
   "outputs": [
    {
     "name": "stdout",
     "output_type": "stream",
     "text": [
      "inicio drift_dolar_oficial()\n",
      "fin drift_dolar_oficial()\n"
     ]
    }
   ],
   "source": [
    "# ejecuto el Data Drifting\n",
    "setorder( dataset, numero_de_cliente, foto_mes )\n",
    "\n",
    "\n",
    "PARAM$DR$metodo <- \"dolar_oficial\"\n",
    "\n",
    "switch(PARAM$DR$metodo,\n",
    "  \"ninguno\"        = cat(\"No hay correccion del data drifting\"),\n",
    "  \"rank_simple\"    = drift_rank_simple(campos_monetarios),\n",
    "  \"rank_cero_fijo\" = drift_rank_cero_fijo(campos_monetarios),\n",
    "  \"deflacion\"      = drift_deflacion(campos_monetarios),\n",
    "  \"dolar_blue\"     = drift_dolarblue(campos_monetarios),\n",
    "  \"dolar_oficial\"  = drift_dolar_oficial(campos_monetarios),\n",
    "  \"UVA\"            = drift_UVA(campos_monetarios),\n",
    "  \"estandarizar\"   = drift_estandarizar(campos_monetarios)\n",
    ")\n"
   ]
  },
  {
   "cell_type": "markdown",
   "id": "cf91ea5e-3341-4afb-8d05-cc4923d3d1e1",
   "metadata": {
    "id": "cf91ea5e-3341-4afb-8d05-cc4923d3d1e1"
   },
   "source": [
    "### 6.3.2 Modelado"
   ]
  },
  {
   "cell_type": "markdown",
   "id": "526048e4-8cf2-4023-bd2d-a70e4e9ff157",
   "metadata": {
    "id": "526048e4-8cf2-4023-bd2d-a70e4e9ff157"
   },
   "source": [
    "#### 6.3.2.1 Training Strategy\n",
    "\n",
    "Esta etapa de Workflow de  Training Strategy esta pensada para la *Modalidad Gerencial* que posee el dataset de [202005, 202109]\n",
    "<br> Si usted es un Analista, posee el periodo de [201901, 202109] y deberá experimentar en que meses le conviene experimentar\n",
    "\n",
    "<br> A la *Modalidad Gerencial* no se le complicada la vida con el undersampling de los continua, por eso PARAM$trainingstrategy$training_pct <- 1.0\n",
    "<br> Sin embargo, si usted es  *Analista SR* posee un dataset 50 veces ( filas x columnas) más grande que la *Modalidad Gerencial*  y por un tema de velocidad y experimentación más rápida puede llegar a necesitar activar el undersampling de la clase mayoritaria, a pesar de estar corriendo en Google Cloud."
   ]
  },
  {
   "cell_type": "markdown",
   "id": "f16bc1c1-b3ea-43ca-9d3c-53f8f9ab8ec1",
   "metadata": {
    "id": "f16bc1c1-b3ea-43ca-9d3c-53f8f9ab8ec1"
   },
   "source": [
    "Se hace una estrategia de entrenamiento muy sencilla, tomando todos los meses posibles, SIN eliminar nada x pandemia ni por ningun otro motivo\n",
    "\n",
    "* future = 202109  obviamente completo\n",
    "\n",
    "* final_train =  [ 202005, 202107 ]  SIN undersampling\n",
    "\n",
    "* training\n",
    "   * testing = NO HAY\n",
    "   * validation =  202107   completo, sin undersampling\n",
    "   * training = [ 202005, 202106 ]  donde se consideran el 100% de los CONTINUA"
   ]
  },
  {
   "cell_type": "code",
   "execution_count": 14,
   "id": "2c9c0a42-ba58-4264-8566-091a6161716f",
   "metadata": {
    "id": "2c9c0a42-ba58-4264-8566-091a6161716f"
   },
   "outputs": [],
   "source": [
    "PARAM$trainingstrategy$validate <- c(202107)\n",
    "\n",
    "PARAM$trainingstrategy$training <- c(\n",
    "  202106, 202105, 202104, 202103, 202102, 202101,\n",
    "  202012, 202011, 202010, 202009, 202008, 202007,\n",
    "  202006, 202005\n",
    ")\n",
    "\n",
    "PARAM$trainingstrategy$training_pct <- 1.0\n",
    "\n",
    "\n",
    "PARAM$trainingstrategy$positivos <- c( \"BAJA+1\", \"BAJA+2\")"
   ]
  },
  {
   "cell_type": "code",
   "execution_count": 15,
   "id": "tv_trHWAj4a8",
   "metadata": {
    "id": "tv_trHWAj4a8"
   },
   "outputs": [],
   "source": [
    "# seteo la clase01   1={BAJA+1, BAJA+2}   0={CONTINUA}\n",
    "dataset[, clase01 := ifelse( clase_ternaria %in% PARAM$trainingstrategy$positivos, 1, 0 )]"
   ]
  },
  {
   "cell_type": "code",
   "execution_count": 16,
   "id": "Ud_XDKSIj8f_",
   "metadata": {
    "id": "Ud_XDKSIj8f_"
   },
   "outputs": [],
   "source": [
    "# los campos en los que se entrena\n",
    "campos_buenos <- copy( setdiff(\n",
    "    colnames(dataset), c(\"clase_ternaria\",\"clase01\",\"azar\"))\n",
    ")"
   ]
  },
  {
   "cell_type": "code",
   "execution_count": 17,
   "id": "rFKgZZPSj_Pa",
   "metadata": {
    "id": "rFKgZZPSj_Pa"
   },
   "outputs": [
    {
     "name": "stderr",
     "output_type": "stream",
     "text": [
      "Loading required package: lightgbm\n",
      "\n"
     ]
    }
   ],
   "source": [
    "# preparo para que se puede hacer undersampling de los CONTINUA\n",
    "#  solamente por un tema de VELOCIDAD\n",
    "set.seed(PARAM$semilla_primigenia, kind = \"L'Ecuyer-CMRG\")\n",
    "dataset[, azar:=runif(nrow(dataset))]\n",
    "\n",
    "# undersampling de los CONTINUA\n",
    "dataset[, fold_train :=  foto_mes %in%  PARAM$trainingstrategy$training &\n",
    "    (clase_ternaria %in% c(\"BAJA+1\", \"BAJA+2\") |\n",
    "     azar < PARAM$trainingstrategy$training_pct ) ]\n",
    "\n",
    "\n",
    "if( !require(\"lightgbm\")) install.packages(\"lightgbm\")\n",
    "require(\"lightgbm\")\n",
    "\n",
    "dtrain <- lgb.Dataset(\n",
    "  data= data.matrix(dataset[fold_train == TRUE, campos_buenos, with = FALSE]),\n",
    "  label= dataset[fold_train == TRUE, clase01],\n",
    "  free_raw_data= TRUE\n",
    ")"
   ]
  },
  {
   "cell_type": "code",
   "execution_count": 18,
   "id": "B3yo98kQkHcP",
   "metadata": {
    "id": "B3yo98kQkHcP"
   },
   "outputs": [
    {
     "data": {
      "text/html": [
       "16551"
      ],
      "text/latex": [
       "16551"
      ],
      "text/markdown": [
       "16551"
      ],
      "text/plain": [
       "[1] 16551"
      ]
     },
     "metadata": {},
     "output_type": "display_data"
    }
   ],
   "source": [
    "# datos de validation\n",
    "dvalidate <- lgb.Dataset(\n",
    "  data= data.matrix(dataset[foto_mes %in% PARAM$trainingstrategy$validate, campos_buenos, with = FALSE]),\n",
    "  label= dataset[foto_mes %in% PARAM$trainingstrategy$validate, clase01],\n",
    "  free_raw_data= TRUE\n",
    ")\n",
    "\n",
    "nrow(dvalidate)"
   ]
  },
  {
   "cell_type": "markdown",
   "id": "28e8f788-551c-4e50-9029-302ac0834287",
   "metadata": {
    "id": "28e8f788-551c-4e50-9029-302ac0834287"
   },
   "source": [
    "####  6.3.2.2. Hyperparameter Tuning"
   ]
  },
  {
   "cell_type": "markdown",
   "id": "bf5fc836-e222-4aeb-a6a8-157346895ef7",
   "metadata": {
    "id": "bf5fc836-e222-4aeb-a6a8-157346895ef7"
   },
   "source": [
    "* Clase binaria que se optimiza :  positivos = [ BAJA+1, BAJA+2 ]"
   ]
  },
  {
   "cell_type": "markdown",
   "id": "885c03b5-77bc-4510-a930-0d1f14b52ffb",
   "metadata": {
    "id": "885c03b5-77bc-4510-a930-0d1f14b52ffb"
   },
   "source": [
    "* Metrica que se optimiza **AUC** Area Under Curve de la  ROC Curve\n",
    "\n",
    "es muy importante notar que intencionalmente  **NO** se está optimizando la funcion de ganancia del problema"
   ]
  },
  {
   "cell_type": "markdown",
   "id": "b7e6f95c-66ef-4ab9-9ba3-fcc099816704",
   "metadata": {
    "id": "b7e6f95c-66ef-4ab9-9ba3-fcc099816704"
   },
   "source": [
    "* Cantidad de iteraciones inteligentes de la Optimizacion Bayesiana = **10**"
   ]
  },
  {
   "cell_type": "markdown",
   "id": "fe047a87-e2d0-4418-97dd-0a881e66d73a",
   "metadata": {
    "id": "fe047a87-e2d0-4418-97dd-0a881e66d73a"
   },
   "source": [
    "* Parametros no default, fijos de LightGBM que no se optimizan\n",
    "  * max_bin = 31 , Alienigenas Ancestrales contruyeron las pirámides y dejaron a la humanidad en un jeroglifico  *max_bin=31*\n",
    "  * feature_fraction = 0.5  para poner algo que generalmente no falla\n",
    "  * learning_rate = 0.03  para que aprenda lento\n"
   ]
  },
  {
   "cell_type": "markdown",
   "id": "1e7da08e-fe57-4681-beff-11fe963116bd",
   "metadata": {
    "id": "1e7da08e-fe57-4681-beff-11fe963116bd"
   },
   "source": [
    "* Parametros que se optimizan en la Bayesian Optimization\n",
    "  * num_leaves  [8, 256]\n",
    "  * min_data_in_leaf  [8, 8192]"
   ]
  },
  {
   "cell_type": "code",
   "execution_count": 19,
   "id": "34V6y4GetKq_",
   "metadata": {
    "id": "34V6y4GetKq_"
   },
   "outputs": [
    {
     "name": "stderr",
     "output_type": "stream",
     "text": [
      "Loading required package: DiceKriging\n",
      "\n",
      "Loading required package: mlrMBO\n",
      "\n",
      "Loading required package: mlr\n",
      "\n",
      "Loading required package: ParamHelpers\n",
      "\n",
      "\n",
      "Attaching package: ‘ParamHelpers’\n",
      "\n",
      "\n",
      "The following object is masked from ‘package:R.utils’:\n",
      "\n",
      "    isVector\n",
      "\n",
      "\n",
      "\n",
      "Attaching package: ‘mlr’\n",
      "\n",
      "\n",
      "The following objects are masked from ‘package:R.utils’:\n",
      "\n",
      "    resample, setThreshold\n",
      "\n",
      "\n",
      "Loading required package: smoof\n",
      "\n",
      "Loading required package: checkmate\n",
      "\n",
      "\n",
      "Attaching package: ‘checkmate’\n",
      "\n",
      "\n",
      "The following object is masked from ‘package:DiceKriging’:\n",
      "\n",
      "    checkNames\n",
      "\n",
      "\n",
      "The following object is masked from ‘package:R.utils’:\n",
      "\n",
      "    asInt\n",
      "\n",
      "\n",
      "\n",
      "Attaching package: ‘smoof’\n",
      "\n",
      "\n",
      "The following objects are masked from ‘package:R.oo’:\n",
      "\n",
      "    getDescription, getName\n",
      "\n",
      "\n"
     ]
    }
   ],
   "source": [
    "# paquetes necesarios para la Bayesian Optimization\n",
    "if(!require(\"DiceKriging\")) install.packages(\"DiceKriging\")\n",
    "require(\"DiceKriging\")\n",
    "\n",
    "if(!require(\"mlrMBO\")) install.packages(\"mlrMBO\")\n",
    "require(\"mlrMBO\")"
   ]
  },
  {
   "cell_type": "markdown",
   "id": "UFbDSYtH0TTT",
   "metadata": {
    "id": "UFbDSYtH0TTT"
   },
   "source": [
    "Definición de la Bayesian Optimization\n",
    "<br> Si se desea optimizar un hiperparámetro que esta como fijo, debe QUITARSE de param_fijos y agregarse a PARAM$hipeparametertuning$hs"
   ]
  },
  {
   "cell_type": "code",
   "execution_count": 20,
   "id": "5Uag3XGHqrfZ",
   "metadata": {
    "id": "5Uag3XGHqrfZ"
   },
   "outputs": [],
   "source": [
    "# valor ridiculamente bajo para que corra rapido en el aula y no molestar a la *Modalidad Gerencial*\n",
    "PARAM$hipeparametertuning$num_interations <- 30\n",
    "\n",
    "# parametros fijos del LightGBM\n",
    "PARAM$lgbm$param_fijos <- list(\n",
    "  objective= \"binary\",\n",
    "  metric= \"auc\",\n",
    "  first_metric_only= TRUE,\n",
    "  boost_from_average= TRUE,\n",
    "  feature_pre_filter= FALSE,\n",
    "  verbosity= -100,\n",
    "  force_row_wise= TRUE, # para evitar warning\n",
    "  seed= PARAM$semilla_primigenia,\n",
    "  max_bin= 31,\n",
    "  learning_rate= 0.03,\n",
    "  feature_fraction= 0.5,\n",
    "  num_iterations= 2048,  # valor grande, lo limita early_stopping_rounds\n",
    "  early_stopping_rounds= 200\n",
    ")\n",
    "\n",
    "PARAM$hipeparametertuning$hs <- makeParamSet(\n",
    "  makeIntegerParam(\"num_leaves\", lower = 2L, upper = 256L),\n",
    "  makeIntegerParam(\"min_data_in_leaf\", lower = 2L, upper = 8192L)\n",
    ")"
   ]
  },
  {
   "cell_type": "markdown",
   "id": "FEa1UuuAz4yj",
   "metadata": {
    "id": "FEa1UuuAz4yj"
   },
   "source": [
    "Función \"señora caja negra\"  que es llamada para verificar la realidad por la Bayesian Optimization"
   ]
  },
  {
   "cell_type": "code",
   "execution_count": 21,
   "id": "2c10f535-8d90-47d1-ac3d-9b4c24ec21d2",
   "metadata": {
    "id": "2c10f535-8d90-47d1-ac3d-9b4c24ec21d2"
   },
   "outputs": [],
   "source": [
    "# En  x llegan los parmaetros de la bayesiana\n",
    "#  devuelve la AUC en validate del modelo entrenado\n",
    "#  en el parametro x llegan los hiperparámetros que se estan optimizando\n",
    "\n",
    "EstimarGanancia_AUC_lightgbm <- function(x) {\n",
    "\n",
    "  # x pisa (o agrega) a param_fijos\n",
    "  param_completo <- modifyList(PARAM$lgbm$param_fijos, x)\n",
    "\n",
    "  # entreno LightGBM\n",
    "  modelo_train <- lgb.train(\n",
    "    data= dtrain,\n",
    "    valids= list(valid = dvalidate),\n",
    "    eval= \"auc\",\n",
    "    param= param_completo,\n",
    "    verbose= -100\n",
    "  )\n",
    "\n",
    "  # recupero la AUC en validation\n",
    "  AUC <- modelo_train$record_evals$valid$auc$eval[[modelo_train$best_iter]]\n",
    "\n",
    "  # esta es la forma de devolver un parametro extra\n",
    "  attr(AUC, \"extras\") <- list(\"num_iterations\"= modelo_train$best_iter)\n",
    "\n",
    "  # hago espacio en la memoria\n",
    "  rm(modelo_train)\n",
    "  gc(full= TRUE, verbose= FALSE)\n",
    "\n",
    "  message(format(Sys.time(), \"%a %b %d %X %Y\"), \" AUC \", AUC)\n",
    "\n",
    "  return(AUC)\n",
    "}"
   ]
  },
  {
   "cell_type": "markdown",
   "id": "267a35d4-adaf-4271-a875-3864111333b7",
   "metadata": {
    "id": "267a35d4-adaf-4271-a875-3864111333b7"
   },
   "source": [
    "seteo de la Bayesian Optimization (complejo)\n",
    "<br> copiado y pegado de la documentación de la librería"
   ]
  },
  {
   "cell_type": "code",
   "execution_count": 22,
   "id": "43c2a92d-1041-46b8-bff2-47297f209ed2",
   "metadata": {
    "id": "43c2a92d-1041-46b8-bff2-47297f209ed2"
   },
   "outputs": [],
   "source": [
    "configureMlr(show.learner.output = FALSE)\n",
    "\n",
    "# configuro la busqueda bayesiana,  los hiperparametros que se van a optimizar\n",
    "# por favor, no desesperarse por lo complejo\n",
    "obj.fun <- makeSingleObjectiveFunction(\n",
    "    fn= EstimarGanancia_AUC_lightgbm, # la funcion que voy a maximizar\n",
    "    minimize= FALSE, # estoy Maximizando AUC\n",
    "    noisy= FALSE,\n",
    "    par.set= PARAM$hipeparametertuning$hs,\n",
    "    has.simple.signature= FALSE # paso los parametros en una lista\n",
    ")\n",
    "\n",
    "# cada 600 segundos guardo el resultado intermedio\n",
    "ctrl <- makeMBOControl(\n",
    "    save.on.disk.at.time= 600,\n",
    "    save.file.path= \"HT.RDATA\"\n",
    ")\n",
    "\n",
    "# indico la cantidad de iteraciones que va a tener la Bayesian Optimization\n",
    "ctrl <- setMBOControlTermination(\n",
    "    ctrl,\n",
    "    iters= PARAM$hipeparametertuning$num_interations  # cantidad de iteraciones inteligentes\n",
    ")\n",
    "\n",
    "# defino el método estandar para la creacion de los puntos iniciales\n",
    "#   los \"No Inteligentes\"\n",
    "ctrl <- setMBOControlInfill(ctrl, crit = makeMBOInfillCritEI())\n",
    "\n",
    "# mas configuraciones\n",
    "surr.km <- makeLearner(\n",
    "    \"regr.km\",\n",
    "    predict.type= \"se\",\n",
    "    covtype= \"matern3_2\",\n",
    "    control= list(trace = TRUE)\n",
    ")"
   ]
  },
  {
   "cell_type": "markdown",
   "id": "6c1e5645-d26f-4923-a53f-f30471a4c4e8",
   "metadata": {
    "id": "6c1e5645-d26f-4923-a53f-f30471a4c4e8"
   },
   "source": [
    "Corrida de la Bayesian Optimization,  aqui se hace el trabajo pesado\n",
    "<br> por favor no se asuste con los warnings que pudieran aparecer\n",
    "\n",
    "Si corrío a medias y llegó a las iteraciones inteligentes, en el archivo binario HT.RDATA quedó lo ya procesado y es utilizado para retomar la corrida desde lo último que llegó a grabar."
   ]
  },
  {
   "cell_type": "code",
   "execution_count": 23,
   "id": "1f8cab3f-c7e2-4802-bfd1-5ad509922a4e",
   "metadata": {
    "id": "1f8cab3f-c7e2-4802-bfd1-5ad509922a4e",
    "scrolled": true
   },
   "outputs": [
    {
     "name": "stderr",
     "output_type": "stream",
     "text": [
      "Computing y column(s) for design. Not provided.\n",
      "\n",
      "Sun Aug 17 16:58:49 2025 AUC 0.931820361973127\n",
      "\n",
      "Sun Aug 17 16:59:24 2025 AUC 0.934860361602395\n",
      "\n",
      "Sun Aug 17 16:59:40 2025 AUC 0.935129142057422\n",
      "\n",
      "Sun Aug 17 17:00:05 2025 AUC 0.932221447290067\n",
      "\n",
      "Sun Aug 17 17:00:16 2025 AUC 0.938502336768008\n",
      "\n",
      "Sun Aug 17 17:00:43 2025 AUC 0.93136945958909\n",
      "\n",
      "Sun Aug 17 17:00:59 2025 AUC 0.938383007514267\n",
      "\n",
      "Sun Aug 17 17:01:20 2025 AUC 0.928123703887353\n",
      "\n",
      "[mbo] 0: num_leaves=210; min_data_in_leaf=3863 : y = 0.932 : 15.6 secs : initdesign\n",
      "\n",
      "[mbo] 0: num_leaves=83; min_data_in_leaf=4144 : y = 0.935 : 34.0 secs : initdesign\n",
      "\n",
      "[mbo] 0: num_leaves=154; min_data_in_leaf=3032 : y = 0.935 : 16.5 secs : initdesign\n",
      "\n",
      "[mbo] 0: num_leaves=106; min_data_in_leaf=7360 : y = 0.932 : 25.5 secs : initdesign\n",
      "\n",
      "[mbo] 0: num_leaves=55; min_data_in_leaf=1064 : y = 0.939 : 10.7 secs : initdesign\n",
      "\n",
      "[mbo] 0: num_leaves=226; min_data_in_leaf=7152 : y = 0.931 : 26.5 secs : initdesign\n",
      "\n",
      "[mbo] 0: num_leaves=178; min_data_in_leaf=848 : y = 0.938 : 16.6 secs : initdesign\n",
      "\n",
      "[mbo] 0: num_leaves=8; min_data_in_leaf=5417 : y = 0.928 : 20.8 secs : initdesign\n",
      "\n",
      "Warning message in generateDesign(control$infill.opt.focussearch.points, ps.local, :\n",
      "“generateDesign could only produce 994 points instead of 1000!”\n",
      "Warning message in generateDesign(control$infill.opt.focussearch.points, ps.local, :\n",
      "“generateDesign could only produce 998 points instead of 1000!”\n",
      "Sun Aug 17 17:01:31 2025 AUC 0.937795166122541\n",
      "\n",
      "[mbo] 1: num_leaves=256; min_data_in_leaf=1094 : y = 0.938 : 10.3 secs : infill_ei\n",
      "\n",
      "Warning message in generateDesign(control$infill.opt.focussearch.points, ps.local, :\n",
      "“generateDesign could only produce 993 points instead of 1000!”\n",
      "Warning message in generateDesign(control$infill.opt.focussearch.points, ps.local, :\n",
      "“generateDesign could only produce 991 points instead of 1000!”\n",
      "Warning message in generateDesign(control$infill.opt.focussearch.points, ps.local, :\n",
      "“generateDesign could only produce 992 points instead of 1000!”\n",
      "Sun Aug 17 17:01:40 2025 AUC 0.908820169656077\n",
      "\n",
      "[mbo] 2: num_leaves=2; min_data_in_leaf=902 : y = 0.909 : 8.1 secs : infill_ei\n",
      "\n",
      "Sun Aug 17 17:01:51 2025 AUC 0.936106483401648\n",
      "\n",
      "[mbo] 3: num_leaves=208; min_data_in_leaf=1077 : y = 0.936 : 10.5 secs : infill_ei\n",
      "\n",
      "Sun Aug 17 17:02:05 2025 AUC 0.942092641208214\n",
      "\n",
      "[mbo] 4: num_leaves=69; min_data_in_leaf=30 : y = 0.942 : 13.7 secs : infill_ei\n",
      "\n",
      "Warning message in generateDesign(control$infill.opt.focussearch.points, ps.local, :\n",
      "“generateDesign could only produce 697 points instead of 1000!”\n",
      "Warning message in generateDesign(control$infill.opt.focussearch.points, ps.local, :\n",
      "“generateDesign could only produce 595 points instead of 1000!”\n",
      "Warning message in generateDesign(control$infill.opt.focussearch.points, ps.local, :\n",
      "“generateDesign could only produce 765 points instead of 1000!”\n",
      "Sun Aug 17 17:02:19 2025 AUC 0.936671385771782\n",
      "\n",
      "[mbo] 5: num_leaves=94; min_data_in_leaf=2 : y = 0.937 : 13.6 secs : infill_ei\n",
      "\n",
      "Sun Aug 17 17:02:33 2025 AUC 0.938383239221556\n",
      "\n",
      "[mbo] 6: num_leaves=71; min_data_in_leaf=1294 : y = 0.938 : 13.4 secs : infill_ei\n",
      "\n",
      "Warning message in generateDesign(control$infill.opt.focussearch.points, ps.local, :\n",
      "“generateDesign could only produce 889 points instead of 1000!”\n",
      "Warning message in generateDesign(control$infill.opt.focussearch.points, ps.local, :\n",
      "“generateDesign could only produce 809 points instead of 1000!”\n",
      "Warning message in generateDesign(control$infill.opt.focussearch.points, ps.local, :\n",
      "“generateDesign could only produce 735 points instead of 1000!”\n",
      "Sun Aug 17 17:02:52 2025 AUC 0.928578313588011\n",
      "\n",
      "[mbo] 7: num_leaves=51; min_data_in_leaf=8192 : y = 0.929 : 17.8 secs : infill_ei\n",
      "\n",
      "Warning message in generateDesign(control$infill.opt.focussearch.points, ps.local, :\n",
      "“generateDesign could only produce 797 points instead of 1000!”\n",
      "Warning message in generateDesign(control$infill.opt.focussearch.points, ps.local, :\n",
      "“generateDesign could only produce 663 points instead of 1000!”\n",
      "Warning message in generateDesign(control$infill.opt.focussearch.points, ps.local, :\n",
      "“generateDesign could only produce 663 points instead of 1000!”\n",
      "Sun Aug 17 17:03:04 2025 AUC 0.934923617692242\n",
      "\n",
      "[mbo] 8: num_leaves=63; min_data_in_leaf=2 : y = 0.935 : 11.7 secs : infill_ei\n",
      "\n",
      "Warning message in generateDesign(control$infill.opt.focussearch.points, ps.local, :\n",
      "“generateDesign could only produce 414 points instead of 1000!”\n",
      "Warning message in generateDesign(control$infill.opt.focussearch.points, ps.local, :\n",
      "“generateDesign could only produce 612 points instead of 1000!”\n",
      "Warning message in generateDesign(control$infill.opt.focussearch.points, ps.local, :\n",
      "“generateDesign could only produce 469 points instead of 1000!”\n",
      "Sun Aug 17 17:03:16 2025 AUC 0.937862592943586\n",
      "\n",
      "[mbo] 9: num_leaves=182; min_data_in_leaf=28 : y = 0.938 : 10.8 secs : infill_ei\n",
      "\n",
      "Sun Aug 17 17:03:37 2025 AUC 0.931970740003568\n",
      "\n",
      "[mbo] 10: num_leaves=68; min_data_in_leaf=6535 : y = 0.932 : 20.7 secs : infill_ei\n",
      "\n",
      "Warning message in generateDesign(control$infill.opt.focussearch.points, ps.local, :\n",
      "“generateDesign could only produce 988 points instead of 1000!”\n",
      "Sun Aug 17 17:03:47 2025 AUC 0.939110104986573\n",
      "\n",
      "[mbo] 11: num_leaves=132; min_data_in_leaf=30 : y = 0.939 : 9.3 secs : infill_ei\n",
      "\n",
      "Sun Aug 17 17:04:05 2025 AUC 0.928578313588011\n",
      "\n",
      "[mbo] 12: num_leaves=69; min_data_in_leaf=8192 : y = 0.929 : 18.0 secs : infill_ei\n",
      "\n",
      "Warning message in generateDesign(control$infill.opt.focussearch.points, ps.local, :\n",
      "“generateDesign could only produce 340 points instead of 1000!”\n",
      "Warning message in generateDesign(control$infill.opt.focussearch.points, ps.local, :\n",
      "“generateDesign could only produce 335 points instead of 1000!”\n",
      "Warning message in generateDesign(control$infill.opt.focussearch.points, ps.local, :\n",
      "“generateDesign could only produce 207 points instead of 1000!”\n",
      "Sun Aug 17 17:04:14 2025 AUC 0.909176072051698\n",
      "\n",
      "[mbo] 13: num_leaves=2; min_data_in_leaf=28 : y = 0.909 : 8.3 secs : infill_ei\n",
      "\n",
      "Sun Aug 17 17:04:33 2025 AUC 0.938848507457499\n",
      "\n",
      "[mbo] 14: num_leaves=138; min_data_in_leaf=1437 : y = 0.939 : 17.7 secs : infill_ei\n",
      "\n",
      "Sun Aug 17 17:04:54 2025 AUC 0.930467654821018\n",
      "\n",
      "[mbo] 15: num_leaves=134; min_data_in_leaf=6349 : y = 0.93 : 21.4 secs : infill_ei\n",
      "\n",
      "Warning message in generateDesign(control$infill.opt.focussearch.points, ps.local, :\n",
      "“generateDesign could only produce 975 points instead of 1000!”\n",
      "Warning message in generateDesign(control$infill.opt.focussearch.points, ps.local, :\n",
      "“generateDesign could only produce 912 points instead of 1000!”\n",
      "Sun Aug 17 17:05:05 2025 AUC 0.936850495506037\n",
      "\n",
      "[mbo] 16: num_leaves=144; min_data_in_leaf=2 : y = 0.937 : 9.7 secs : infill_ei\n",
      "\n",
      "Warning message in generateDesign(control$infill.opt.focussearch.points, ps.local, :\n",
      "“generateDesign could only produce 999 points instead of 1000!”\n",
      "Sun Aug 17 17:05:26 2025 AUC 0.94284128745838\n",
      "\n",
      "[mbo] 17: num_leaves=196; min_data_in_leaf=2 : y = 0.943 : 20.2 secs : infill_ei\n",
      "\n",
      "Sun Aug 17 17:05:42 2025 AUC 0.939331617154681\n",
      "\n",
      "[mbo] 18: num_leaves=193; min_data_in_leaf=1699 : y = 0.939 : 16.2 secs : infill_ei\n",
      "\n",
      "Warning message in generateDesign(control$infill.opt.focussearch.points, ps.local, :\n",
      "“generateDesign could only produce 797 points instead of 1000!”\n",
      "Warning message in generateDesign(control$infill.opt.focussearch.points, ps.local, :\n",
      "“generateDesign could only produce 797 points instead of 1000!”\n",
      "Sun Aug 17 17:05:52 2025 AUC 0.93776597100415\n",
      "\n",
      "[mbo] 19: num_leaves=199; min_data_in_leaf=2 : y = 0.938 : 9.0 secs : infill_ei\n",
      "\n",
      "Warning message in generateDesign(control$infill.opt.focussearch.points, ps.local, :\n",
      "“generateDesign could only produce 985 points instead of 1000!”\n",
      "Warning message in generateDesign(control$infill.opt.focussearch.points, ps.local, :\n",
      "“generateDesign could only produce 782 points instead of 1000!”\n",
      "Sun Aug 17 17:06:13 2025 AUC 0.940730202349975\n",
      "\n",
      "[mbo] 20: num_leaves=195; min_data_in_leaf=2 : y = 0.941 : 20.1 secs : infill_ei\n",
      "\n",
      "Sun Aug 17 17:06:34 2025 AUC 0.935457239578385\n",
      "\n",
      "[mbo] 21: num_leaves=196; min_data_in_leaf=3208 : y = 0.935 : 20.2 secs : infill_ei\n",
      "\n",
      "Sun Aug 17 17:06:48 2025 AUC 0.94013819022705\n",
      "\n",
      "[mbo] 22: num_leaves=189; min_data_in_leaf=489 : y = 0.94 : 14.4 secs : infill_ei\n",
      "\n",
      "Sun Aug 17 17:07:08 2025 AUC 0.934799422585436\n",
      "\n",
      "[mbo] 23: num_leaves=186; min_data_in_leaf=3431 : y = 0.935 : 19.1 secs : infill_ei\n",
      "\n",
      "Sun Aug 17 17:07:36 2025 AUC 0.935262142041202\n",
      "\n",
      "[mbo] 24: num_leaves=195; min_data_in_leaf=3871 : y = 0.935 : 27.7 secs : infill_ei\n",
      "\n",
      "Warning message in generateDesign(control$infill.opt.focussearch.points, ps.local, :\n",
      "“generateDesign could only produce 850 points instead of 1000!”\n",
      "Warning message in generateDesign(control$infill.opt.focussearch.points, ps.local, :\n",
      "“generateDesign could only produce 998 points instead of 1000!”\n",
      "Sun Aug 17 17:07:51 2025 AUC 0.938659434309825\n",
      "\n",
      "[mbo] 25: num_leaves=127; min_data_in_leaf=2 : y = 0.939 : 14.5 secs : infill_ei\n",
      "\n",
      "Warning message in generateDesign(control$infill.opt.focussearch.points, ps.local, :\n",
      "“generateDesign could only produce 996 points instead of 1000!”\n",
      "Sun Aug 17 17:08:07 2025 AUC 0.937574349076299\n",
      "\n",
      "[mbo] 26: num_leaves=67; min_data_in_leaf=836 : y = 0.938 : 15.3 secs : infill_ei\n",
      "\n",
      "Warning message in generateDesign(control$infill.opt.focussearch.points, ps.local, :\n",
      "“generateDesign could only produce 765 points instead of 1000!”\n",
      "Warning message in generateDesign(control$infill.opt.focussearch.points, ps.local, :\n",
      "“generateDesign could only produce 747 points instead of 1000!”\n",
      "Warning message in generateDesign(control$infill.opt.focussearch.points, ps.local, :\n",
      "“generateDesign could only produce 981 points instead of 1000!”\n",
      "Sun Aug 17 17:08:18 2025 AUC 0.935394910317694\n",
      "\n",
      "[mbo] 27: num_leaves=76; min_data_in_leaf=2 : y = 0.935 : 10.6 secs : infill_ei\n",
      "\n",
      "Warning message in generateDesign(control$infill.opt.focussearch.points, ps.local, :\n",
      "“generateDesign could only produce 977 points instead of 1000!”\n",
      "Warning message in generateDesign(control$infill.opt.focussearch.points, ps.local, :\n",
      "“generateDesign could only produce 949 points instead of 1000!”\n",
      "Sun Aug 17 17:08:39 2025 AUC 0.939160617175534\n",
      "\n",
      "[mbo] 28: num_leaves=172; min_data_in_leaf=2 : y = 0.939 : 20.2 secs : infill_ei\n",
      "\n",
      "Saved the current state after iteration 29 in the file HT.RDATA.\n",
      "\n",
      "Sun Aug 17 17:09:07 2025 AUC 0.93455589822489\n",
      "\n",
      "[mbo] 29: num_leaves=189; min_data_in_leaf=4596 : y = 0.935 : 22.6 secs : infill_ei\n",
      "\n",
      "Sun Aug 17 17:09:35 2025 AUC 0.932271032649874\n",
      "\n",
      "[mbo] 30: num_leaves=193; min_data_in_leaf=6289 : y = 0.932 : 27.1 secs : infill_ei\n",
      "\n",
      "Saved the final state in the file HT.RDATA\n",
      "\n"
     ]
    }
   ],
   "source": [
    "# inicio la optimizacion bayesiana\n",
    "\n",
    "if (!file.exists(\"HT.RDATA\")) {\n",
    "  bayesiana_salida <- mbo(obj.fun, learner= surr.km, control= ctrl)\n",
    "} else {\n",
    "  bayesiana_salida <- mboContinue(\"HT.RDATA\") # retomo en caso que ya exista\n",
    "}"
   ]
  },
  {
   "cell_type": "markdown",
   "id": "36307612-964f-4df3-907a-1bc3c095f178",
   "metadata": {
    "id": "36307612-964f-4df3-907a-1bc3c095f178"
   },
   "source": [
    "la bayesian optimization ha corrido, extraigo los mejores hiperparametros"
   ]
  },
  {
   "cell_type": "code",
   "execution_count": 24,
   "id": "8c061a2a-3341-4006-a154-c95bb6cfd407",
   "metadata": {
    "id": "8c061a2a-3341-4006-a154-c95bb6cfd407"
   },
   "outputs": [
    {
     "name": "stdout",
     "output_type": "stream",
     "text": [
      "   num_leaves min_data_in_leaf num_iterations\n",
      "        <int>            <int>          <int>\n",
      "1:        196                2            809\n"
     ]
    }
   ],
   "source": [
    "# almaceno los resultados de la Bayesian Optimization\n",
    "# y capturo los mejores hiperparametros encontrados\n",
    "\n",
    "tb_bayesiana <- as.data.table(bayesiana_salida$opt.path)\n",
    "\n",
    "# ordeno en forma descendente por AUC = y\n",
    "setorder(tb_bayesiana, -y, -num_iterations)\n",
    "\n",
    "# grabo para eventualmente poder utilizarlos en OTRA corrida\n",
    "fwrite( tb_bayesiana,\n",
    "  file=\"BO_log.txt\",\n",
    "  sep=\"\\t\"\n",
    ")\n",
    "\n",
    "# los mejores hiperparámetros son los que quedaron en el registro 1 de la tabla\n",
    "PARAM$out$lgbm$mejores_hiperparametros <- tb_bayesiana[\n",
    "  1, # el primero es el de mejor AUC\n",
    "  list(num_leaves, min_data_in_leaf, num_iterations)\n",
    "]\n",
    "\n",
    "print(PARAM$out$lgbm$mejores_hiperparametros)"
   ]
  },
  {
   "cell_type": "markdown",
   "id": "ddb554cb-1d96-4f6b-ae1c-c9a076f8dbdc",
   "metadata": {
    "id": "ddb554cb-1d96-4f6b-ae1c-c9a076f8dbdc"
   },
   "source": [
    "### 6.3.3 Produccion"
   ]
  },
  {
   "cell_type": "markdown",
   "id": "c39492c3-756f-47a5-8747-93ade8275306",
   "metadata": {
    "id": "c39492c3-756f-47a5-8747-93ade8275306"
   },
   "source": [
    "#### Final Training\n",
    "Construyo el modelo final, que es uno solo, no hace ningun tipo de particion < training, validation, testing>]"
   ]
  },
  {
   "cell_type": "markdown",
   "id": "xhKi_G_sYQqq",
   "metadata": {
    "id": "xhKi_G_sYQqq"
   },
   "source": [
    "##### Final Training Dataset\n",
    "\n",
    "Aqui esta la gran decision de en qué meses hago el Final Training\n",
    "<br> debo utilizar los mejores hiperparámetros que encontré en la optimización bayesiana"
   ]
  },
  {
   "cell_type": "code",
   "execution_count": 25,
   "id": "qyHfS_X0zd7o",
   "metadata": {
    "id": "qyHfS_X0zd7o"
   },
   "outputs": [
    {
     "data": {
      "text/html": [
       "240562"
      ],
      "text/latex": [
       "240562"
      ],
      "text/markdown": [
       "240562"
      ],
      "text/plain": [
       "[1] 240562"
      ]
     },
     "metadata": {},
     "output_type": "display_data"
    }
   ],
   "source": [
    "PARAM$trainingstrategy$final_train <- c( 202107,\n",
    "  202106, 202105, 202104, 202103, 202102, 202101,\n",
    "  202012, 202011, 202010, 202009, 202008, 202007,\n",
    "  202006, 202005\n",
    ")\n",
    "\n",
    "dataset[, fold_final_train := foto_mes %in% PARAM$trainingstrategy$final_train ]\n",
    "\n",
    "# creo el dfinal_train en formato  LightGBM\n",
    "dfinal_train <- lgb.Dataset(\n",
    "  data= data.matrix(dataset[fold_final_train == TRUE, campos_buenos, with= FALSE]),\n",
    "  label= dataset[fold_final_train == TRUE, clase01],\n",
    "  free_raw_data= TRUE\n",
    ")\n",
    "\n",
    "nrow( dfinal_train) # verifico el tamaño"
   ]
  },
  {
   "cell_type": "markdown",
   "id": "HATRyklxYUpT",
   "metadata": {
    "id": "HATRyklxYUpT"
   },
   "source": [
    "##### Final Training Hyperparameters"
   ]
  },
  {
   "cell_type": "code",
   "execution_count": 26,
   "id": "d6b9f33c-e0a0-4ea6-8169-4a6180cc5d01",
   "metadata": {
    "id": "d6b9f33c-e0a0-4ea6-8169-4a6180cc5d01"
   },
   "outputs": [],
   "source": [
    "# uno los parametros fijos y los mejores encontrados de los variables\n",
    "fijos <- copy(PARAM$lgbm$param_fijos)\n",
    "\n",
    "# quito lo que optimice en la Bayesian Optimization\n",
    "fijos$num_iterations <- NULL\n",
    "fijos$early_stopping_rounds <- NULL\n",
    "\n",
    "# agrego a los hiperparametros fijos los que encontre con la Bayesian Optimization\n",
    "param_final <- c(fijos, PARAM$out$lgbm$mejores_hiperparametros)"
   ]
  },
  {
   "cell_type": "markdown",
   "id": "05d3494f-0401-4f3e-9b69-f488a737879d",
   "metadata": {
    "id": "05d3494f-0401-4f3e-9b69-f488a737879d"
   },
   "source": [
    "##### Training\n",
    "Genero el modelo final, siempre sobre TODOS los datos de  final_train, sin hacer ningun tipo de undersampling de la clase mayoritaria"
   ]
  },
  {
   "cell_type": "code",
   "execution_count": 27,
   "id": "fa239848-1c28-4ee5-984a-073903b4b279",
   "metadata": {
    "id": "fa239848-1c28-4ee5-984a-073903b4b279"
   },
   "outputs": [],
   "source": [
    "final_model <- lgb.train(\n",
    "  data= dfinal_train,\n",
    "  param= param_final,\n",
    "  verbose= -100\n",
    ")"
   ]
  },
  {
   "cell_type": "code",
   "execution_count": 28,
   "id": "RC1ju-5MZN5s",
   "metadata": {
    "id": "RC1ju-5MZN5s"
   },
   "outputs": [],
   "source": [
    "# grabo a disco el modelo en un formato para seres humanos ... ponele ...\n",
    "\n",
    "lgb.save(final_model, \"modelo.txt\")"
   ]
  },
  {
   "cell_type": "code",
   "execution_count": 29,
   "id": "VEpv4RYOZHTU",
   "metadata": {
    "id": "VEpv4RYOZHTU"
   },
   "outputs": [],
   "source": [
    "# ahora imprimo la importancia de variables\n",
    "\n",
    "tb_importancia <- as.data.table(lgb.importance(final_model))\n",
    "archivo_importancia <- \"impo.txt\"\n",
    "\n",
    "fwrite( tb_importancia,\n",
    "  file= archivo_importancia,\n",
    "  sep= \"\\t\"\n",
    ")"
   ]
  },
  {
   "cell_type": "markdown",
   "id": "7ea225b3-ce02-42e2-8330-b10ed250d172",
   "metadata": {
    "id": "7ea225b3-ce02-42e2-8330-b10ed250d172"
   },
   "source": [
    "#### Scoring"
   ]
  },
  {
   "cell_type": "markdown",
   "id": "164981bb-f4c1-4228-8bc9-32e58a383c05",
   "metadata": {
    "id": "164981bb-f4c1-4228-8bc9-32e58a383c05"
   },
   "source": [
    "Aplico el modelo final a los datos del futuro"
   ]
  },
  {
   "cell_type": "code",
   "execution_count": 30,
   "id": "eJ7RbT271v-R",
   "metadata": {
    "id": "eJ7RbT271v-R"
   },
   "outputs": [],
   "source": [
    "PARAM$trainingstrategy$future <- c(202109)\n",
    "\n",
    "dfuture <- dataset[ foto_mes %in% PARAM$trainingstrategy$future ]"
   ]
  },
  {
   "cell_type": "code",
   "execution_count": 31,
   "id": "88ca61c8-fa24-4ce5-8be1-323aca018e8f",
   "metadata": {
    "id": "88ca61c8-fa24-4ce5-8be1-323aca018e8f"
   },
   "outputs": [],
   "source": [
    "# aplico final_model   a dfuture\n",
    "\n",
    "prediccion <- predict(\n",
    "  final_model,\n",
    "  data.matrix(dfuture[, campos_buenos, with= FALSE])\n",
    ")"
   ]
  },
  {
   "cell_type": "markdown",
   "id": "79u0ZvjJZblE",
   "metadata": {
    "id": "79u0ZvjJZblE"
   },
   "source": [
    "##### Tabla Prediccion"
   ]
  },
  {
   "cell_type": "code",
   "execution_count": 32,
   "id": "TB6aerGDZeTo",
   "metadata": {
    "id": "TB6aerGDZeTo"
   },
   "outputs": [],
   "source": [
    "tb_prediccion <- dfuture[, list(numero_de_cliente)]\n",
    "tb_prediccion[, prob := prediccion]\n",
    "\n",
    "# grabo las probabilidad del modelo\n",
    "#  me va a ser util para hacer Ensembles de modelos\n",
    "fwrite(tb_prediccion,\n",
    "  file= \"prediccion.txt\",\n",
    "  sep= \"\\t\"\n",
    ")"
   ]
  },
  {
   "cell_type": "markdown",
   "id": "8412d838-5bd5-454e-b3a9-5eaa18d80a50",
   "metadata": {
    "id": "8412d838-5bd5-454e-b3a9-5eaa18d80a50"
   },
   "source": [
    "#### Kaggle Competition Submit"
   ]
  },
  {
   "cell_type": "markdown",
   "id": "55970cb6-856a-46e3-a893-7f36b8352b8e",
   "metadata": {
    "id": "55970cb6-856a-46e3-a893-7f36b8352b8e"
   },
   "source": [
    "Genero las salidas y hago los submits a Kaggle\n",
    "<br>El notebook esta preparado para la Modalidad Gerencial, los analistas deben hacer cambios.\n",
    "<br> Los analistas deben cambiar **competencia** a SU competencia  \"data-mining-analista-jr-2025-a\"   o  la original \"data-mining-analista-sr-2025-a\"  para los Senior\n",
    "<br> Los cortes  dependen de la cantidad de registros, multiplicar por 2 para los Analistas Jr y por 10 para los Analista Sr\n",
    "\n",
    "Los Analista Sr luego de meditar cuidadosamente reducirán la cantidad de cortes"
   ]
  },
  {
   "cell_type": "code",
   "execution_count": 33,
   "id": "e5fa2439-b0e9-49e0-a861-71d7315d6e1c",
   "metadata": {
    "id": "e5fa2439-b0e9-49e0-a861-71d7315d6e1c"
   },
   "outputs": [
    {
     "name": "stdout",
     "output_type": "stream",
     "text": [
      "Successfully submitted to Data Mining, Gerencial 2025A \n",
      "Successfully submitted to Data Mining, Gerencial 2025A \n",
      "Successfully submitted to Data Mining, Gerencial 2025A \n",
      "Successfully submitted to Data Mining, Gerencial 2025A \n",
      "Successfully submitted to Data Mining, Gerencial 2025A \n",
      "Successfully submitted to Data Mining, Gerencial 2025A \n",
      "Successfully submitted to Data Mining, Gerencial 2025A \n",
      "Successfully submitted to Data Mining, Gerencial 2025A \n",
      "Successfully submitted to Data Mining, Gerencial 2025A \n",
      "Successfully submitted to Data Mining, Gerencial 2025A \n",
      "Successfully submitted to Data Mining, Gerencial 2025A \n"
     ]
    }
   ],
   "source": [
    "# genero archivos con los  \"envios\" mejores\n",
    "# suba TODOS los archivos a Kaggle\n",
    "\n",
    "PARAM$kaggle$competencia <- \"data-mining-gerencial-2025-a\"\n",
    "PARAM$kaggle$cortes <- seq(800, 1300, by = 50)\n",
    "\n",
    "# ordeno por probabilidad descendente\n",
    "setorder(tb_prediccion, -prob)\n",
    "\n",
    "dir.create(\"kaggle\")\n",
    "\n",
    "for (envios in PARAM$kaggle$cortes) {\n",
    "\n",
    "  tb_prediccion[, Predicted := 0L] # seteo inicial a 0\n",
    "  tb_prediccion[1:envios, Predicted := 1L] # marclo los primeros\n",
    "\n",
    "  archivo_kaggle <- paste0(\"./kaggle/KA\", PARAM$experimento, \"_\", envios, \".csv\")\n",
    "\n",
    "  # grabo el archivo\n",
    "  fwrite(tb_prediccion[, list(numero_de_cliente, Predicted)],\n",
    "    file= archivo_kaggle,\n",
    "    sep= \",\"\n",
    "  )\n",
    "\n",
    "  # subida a Kaggle, armo la linea de comando\n",
    "  comando <- \"kaggle competitions submit\"\n",
    "  competencia <- paste(\"-c\", PARAM$kaggle$competencia)\n",
    "  arch <- paste( \"-f\", archivo_kaggle)\n",
    "\n",
    "  mensaje <- paste0(\"-m 'envios=\", envios,\n",
    "  \"  semilla=\", PARAM$semilla_primigenia,\n",
    "    \"'\" )\n",
    "\n",
    "  linea <- paste( comando, competencia, arch, mensaje)\n",
    "\n",
    "  salida <- system(linea, intern=TRUE) # el submit a Kaggle\n",
    "  cat(salida, \"\\n\")\n",
    "}"
   ]
  },
  {
   "cell_type": "code",
   "execution_count": 34,
   "id": "C94tK-xid6p2",
   "metadata": {
    "id": "C94tK-xid6p2"
   },
   "outputs": [
    {
     "name": "stderr",
     "output_type": "stream",
     "text": [
      "Loading required package: yaml\n",
      "\n"
     ]
    }
   ],
   "source": [
    "# grabo los parametros\n",
    "if( !require(\"yaml\")) install.packages(\"yaml\")\n",
    "require(\"yaml\")\n",
    "\n",
    "write_yaml( PARAM, file=\"PARAM.yml\")"
   ]
  },
  {
   "cell_type": "code",
   "execution_count": 35,
   "id": "1b615a62-20cc-4e95-9af2-6b6db38d5efb",
   "metadata": {
    "id": "1b615a62-20cc-4e95-9af2-6b6db38d5efb"
   },
   "outputs": [
    {
     "data": {
      "text/html": [
       "'Sun Aug 17 17:11:07 2025'"
      ],
      "text/latex": [
       "'Sun Aug 17 17:11:07 2025'"
      ],
      "text/markdown": [
       "'Sun Aug 17 17:11:07 2025'"
      ],
      "text/plain": [
       "[1] \"Sun Aug 17 17:11:07 2025\""
      ]
     },
     "metadata": {},
     "output_type": "display_data"
    }
   ],
   "source": [
    "format(Sys.time(), \"%a %b %d %X %Y\")"
   ]
  },
  {
   "cell_type": "code",
   "execution_count": null,
   "id": "1d7d513d-82bd-45dd-a4ed-bf2423a5e789",
   "metadata": {},
   "outputs": [],
   "source": []
  },
  {
   "cell_type": "code",
   "execution_count": null,
   "id": "6bff8a53-3d5b-4b21-9bfe-2825a399dc2f",
   "metadata": {},
   "outputs": [],
   "source": []
  },
  {
   "cell_type": "code",
   "execution_count": null,
   "id": "f1f9af9e-e7a9-47a2-adeb-3698937c6d1d",
   "metadata": {},
   "outputs": [],
   "source": []
  },
  {
   "cell_type": "code",
   "execution_count": null,
   "id": "0bca6751-8577-404f-9a2d-ef7ee7c183da",
   "metadata": {},
   "outputs": [],
   "source": []
  },
  {
   "cell_type": "code",
   "execution_count": null,
   "id": "8a6cfb77-f82b-4d2d-b875-bac55bb12c8f",
   "metadata": {},
   "outputs": [],
   "source": []
  }
 ],
 "metadata": {
  "colab": {
   "provenance": []
  },
  "kernelspec": {
   "display_name": "R",
   "language": "R",
   "name": "ir"
  },
  "language_info": {
   "codemirror_mode": "r",
   "file_extension": ".r",
   "mimetype": "text/x-r-source",
   "name": "R",
   "pygments_lexer": "r",
   "version": "4.4.3"
  }
 },
 "nbformat": 4,
 "nbformat_minor": 5
}
